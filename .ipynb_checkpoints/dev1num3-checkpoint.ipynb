{
 "cells": [
  {
   "cell_type": "code",
   "execution_count": 2,
   "metadata": {},
   "outputs": [],
   "source": [
    "import torch\n",
    "import torchvision\n",
    "import torchvision.transforms as transforms # \n",
    "\n",
    "# we use torch.cuda.Event(enable_timing=True) to measure time\n",
    "# from timeit import default_timer as timer\n",
    "# import time\n",
    "\n",
    "import torch.optim as optim\n",
    "import torch.nn as nn\n",
    "import torch.nn.functional as F\n",
    "\n",
    "import collections           # for ordered_dictionnary\n",
    "import torch.nn.init as init # to initialize model\n",
    "\n",
    "import copy                  # for copy.deepcopy( ... )\n",
    "\n",
    "import matplotlib.pyplot as plt\n",
    "import numpy as np\n",
    "\n",
    "from __future__ import print_function, division\n",
    "import os\n",
    "from PIL import Image\n",
    "import torch\n",
    "import pandas as pd\n",
    "from skimage import io, transform\n",
    "import numpy as np\n",
    "import matplotlib.pyplot as plt\n",
    "from torch.utils.data import Dataset, DataLoader\n",
    "from torchvision import transforms, utils\n",
    "\n",
    "import collections\n",
    "import torch.nn.init as init"
   ]
  },
  {
   "cell_type": "code",
   "execution_count": 3,
   "metadata": {},
   "outputs": [],
   "source": [
    "total_nb_of_sample = 9999 # total number of sample per class, this shouldn't be hardcoded\n",
    "class labeledDataSet(torch.utils.data.Dataset):\n",
    "\n",
    "    def __init__(self, label, idx_min , idx_max , root_dir ):\n",
    "        \"\"\"\n",
    "        Args:\n",
    "            label is either \"Cat\" or \"Dog\"\n",
    "            load in the dataset picture no. idx_min to idx_max included\n",
    "            root_dir(string): directory with all images with the same label\n",
    "        \"\"\"\n",
    "        # super(labeledDataSet, self).__init__()\n",
    "        dic = {\"Cat\" : int(1) , \"Dog\" : int(0)}\n",
    "        \n",
    "        if dic.get(label , \"not found\" ) == \"not found\" :\n",
    "            raise ValueError(\"label must either be Cat or Dog\")\n",
    "            \n",
    "        if idx_max > total_nb_of_sample or idx_min < 0 :\n",
    "            raise ValueError(\"min, max index error\")\n",
    "            \n",
    "        self.label_name = label\n",
    "        self.idx_min = idx_min\n",
    "        self.idx_max = idx_max\n",
    "        self.label = dic[label]\n",
    "        self.root_dir = root_dir\n",
    "        self.load_data()\n",
    "    \n",
    "    def load_data(self) :\n",
    "        size = self.__len__()\n",
    "        \n",
    "        self.data_tensor = torch.empty(size,3,64,64,dtype=torch.float)\n",
    "        self.target_tensor = torch.ones(size,dtype=torch.long) * self.label\n",
    "        \n",
    "        for i,j in enumerate(range( self.idx_min , self.idx_max , 1 ),0) :\n",
    "            img_path = self.root_dir +  \"/{index}.{Label}.jpg\".format(index=(j),Label=self.label_name)\n",
    "            # image = io.imread(img_name)\n",
    "            # print( i , \" : \" , io.imread(img_name).shape )\n",
    "            # img = io.imread(img_name)\n",
    "            # print( img_path )\n",
    "            img = Image.open( img_path ).convert('RGB')\n",
    "            \"\"\"\n",
    "            NOTE : There is at least one grey-scale picture of Einstein, manually remove it ?\n",
    "            the greyscale (1 channel) images have to be converted to 3 channels tensors\n",
    "            \"\"\"   \n",
    "            image = torch.from_numpy( np.transpose( img , (-1,-3,-2) ) )\n",
    "            self.data_tensor[i,:,:,:] = image\n",
    "        \n",
    "    def __len__(self):\n",
    "        # return len(self.name_frame)\n",
    "        return (self.idx_max - self.idx_min + 1)\n",
    "\n",
    "    def __getitem__(self, idx):\n",
    "        return self.data_tensor[idx], self.target_tensor[idx]\n"
   ]
  },
  {
   "cell_type": "markdown",
   "metadata": {},
   "source": [
    "Setting the directory of the pictures"
   ]
  },
  {
   "cell_type": "code",
   "execution_count": 4,
   "metadata": {},
   "outputs": [],
   "source": [
    "dog_dir = \"./data_catdogs/trainset/Dog\"\n",
    "cat_dir = \"./data_catdogs/trainset/Cat\"\n",
    "\n",
    "# picture no 1             to (idx_sep)            belong to the training dataset\n",
    "# picture no (idx_sep + 1) to (total_nb_of_sample) belong to the validation dataset\n",
    "idx_sep = 8000\n",
    "\n",
    "trainDogSet = labeledDataSet( \"Dog\", 1 , idx_sep , root_dir = dog_dir )\n",
    "trainCatSet = labeledDataSet( \"Cat\", 1 , idx_sep , root_dir = cat_dir )\n",
    "\n",
    "testsDogSet = labeledDataSet( \"Dog\", idx_sep + 1 , total_nb_of_sample , root_dir = dog_dir )\n",
    "testsCatSet = labeledDataSet( \"Cat\", idx_sep + 1 , total_nb_of_sample , root_dir = cat_dir )"
   ]
  },
  {
   "cell_type": "code",
   "execution_count": 5,
   "metadata": {},
   "outputs": [],
   "source": [
    "trainset = torch.utils.data.ConcatDataset( [ trainDogSet , trainCatSet ] )\n",
    "testsset = torch.utils.data.ConcatDataset( [ testsDogSet , testsCatSet ] )"
   ]
  },
  {
   "cell_type": "code",
   "execution_count": 6,
   "metadata": {},
   "outputs": [
    {
     "name": "stdout",
     "output_type": "stream",
     "text": [
      "training dataset size =  16000\n",
      "testing  dataset size =  3998\n",
      "None\n",
      "img size =  torch.Size([3, 64, 64]) label size =  torch.Size([])\n"
     ]
    }
   ],
   "source": [
    "testing_dataset_size  = testsCatSet.__len__() + testsDogSet.__len__()\n",
    "training_dataset_size = trainCatSet.__len__() + trainDogSet.__len__()\n",
    "\n",
    "print( \"training dataset size = \" , training_dataset_size ) \n",
    "print( \"testing  dataset size = \" , testing_dataset_size ) \n",
    "print( trainDogSet.__doc__ ) \n",
    "img, label =  trainDogSet.__getitem__(1)\n",
    "print( \"img size = \" , img.size() , \"label size = \" , label.size() )"
   ]
  },
  {
   "cell_type": "markdown",
   "metadata": {},
   "source": [
    "Display some samples"
   ]
  },
  {
   "cell_type": "code",
   "execution_count": 7,
   "metadata": {},
   "outputs": [
    {
     "data": {
      "image/png": "[encoded data removed]",
      "text/plain": [
       "<Figure size 432x288 with 1 Axes>"
      ]
     },
     "metadata": {
      "needs_background": "light"
     },
     "output_type": "display_data"
    },
    {
     "name": "stdout",
     "output_type": "stream",
     "text": [
      "    1     0     1     1     0     0     1     1\n"
     ]
    }
   ],
   "source": [
    "nb_sample = 8\n",
    "\n",
    "trainloader = torch.utils.data.DataLoader(trainset , batch_size = nb_sample,  shuffle=True , num_workers=0)\n",
    "testsloader  = torch.utils.data.DataLoader(testsset , batch_size = nb_sample, shuffle=True , num_workers=0)\n",
    "\n",
    "# functions to show an image\n",
    "\n",
    "def imshow(img):\n",
    "    npimg = img.numpy() / 255\n",
    "    plt.imshow(np.transpose(npimg, (1, 2, 0)))\n",
    "    plt.show()\n",
    "\n",
    "# get some random training images\n",
    "dataiter = iter( testsloader )\n",
    "images, labels = dataiter.next()\n",
    "\n",
    "# show images\n",
    "imshow(torchvision.utils.make_grid(images))\n",
    "# print labels\n",
    "print(' '.join('%5s' % labels[j].item() for j in range(nb_sample)))"
   ]
  },
  {
   "cell_type": "markdown",
   "metadata": {},
   "source": [
    "set the device"
   ]
  },
  {
   "cell_type": "code",
   "execution_count": 8,
   "metadata": {},
   "outputs": [
    {
     "name": "stdout",
     "output_type": "stream",
     "text": [
      "cuda:0\n"
     ]
    }
   ],
   "source": [
    "device = torch.device(\"cuda:0\" if torch.cuda.is_available() else \"cpu\")\n",
    "print(device)"
   ]
  },
  {
   "cell_type": "markdown",
   "metadata": {},
   "source": [
    "## The model \n",
    "architecture taken from : https://github.com/MaximumEntropy/welcome_tutorials/tree/pytorch/pytorch"
   ]
  },
  {
   "cell_type": "code",
   "execution_count": 9,
   "metadata": {},
   "outputs": [],
   "source": [
    "class MLP(nn.Module):\n",
    "    def __init__(self, h1, h2):\n",
    "        super(MLP, self).__init__()\n",
    "        self.fc1 = nn.Linear(3*64*64, h1)\n",
    "        self.fc2 = nn.Linear(h1 , h2)\n",
    "        self.fc3 = nn.Linear(h2 , 1)\n",
    "\n",
    "    def forward(self, x):\n",
    "        x = x.view( -1, 3*64*64 )\n",
    "        x = F.relu(self.fc1(x))\n",
    "        x = F.relu(self.fc2(x))\n",
    "        x = torch.sigmoid(self.fc3(x))\n",
    "        return x"
   ]
  },
  {
   "cell_type": "code",
   "execution_count": 10,
   "metadata": {},
   "outputs": [],
   "source": [
    "class Classifier(nn.Module):\n",
    "    \"\"\"Convnet Classifier\"\"\"\n",
    "    def __init__(self, kernel_sz = 3 ):\n",
    "        \n",
    "        if kernel_sz % 2 == 0 :\n",
    "            raise ValueError(\"kernel size must be odd\")\n",
    "        pad = kernel_sz // 2 \n",
    "        \n",
    "        super(Classifier, self).__init__()\n",
    "        self.conv = nn.Sequential(\n",
    "            # Layer 1\n",
    "            nn.Conv2d(in_channels=3, out_channels=16, kernel_size=( kernel_sz , kernel_sz ), padding=pad ),\n",
    "            # nn.Dropout(p=0.5),\n",
    "            nn.ReLU(),\n",
    "            nn.MaxPool2d(kernel_size=(2, 2), stride=2),\n",
    "            \n",
    "            # Layer 2\n",
    "            nn.Conv2d(in_channels=16, out_channels=32, kernel_size=( kernel_sz , kernel_sz), padding=pad),\n",
    "            # nn.Dropout(p=0.5),\n",
    "            nn.ReLU(),\n",
    "            nn.MaxPool2d(kernel_size=(2, 2), stride=2),\n",
    "            \n",
    "            # Layer 3\n",
    "            nn.Conv2d(in_channels=32, out_channels=64, kernel_size=( kernel_sz , kernel_sz), padding=pad),\n",
    "            # nn.Dropout(p=0.5),\n",
    "            nn.ReLU(),\n",
    "            nn.MaxPool2d(kernel_size=(2, 2), stride=2),\n",
    "            \n",
    "            # Layer 4\n",
    "            nn.Conv2d(in_channels=64, out_channels=128, kernel_size=(kernel_sz , kernel_sz), padding=pad),\n",
    "            # nn.Dropout(p=0.5),\n",
    "            nn.ReLU(),\n",
    "            nn.MaxPool2d(kernel_size=(2, 2), stride=2)\n",
    "        )\n",
    "        # \n",
    "        self.fct = nn.Linear(4*4*128, 1)\n",
    "\n",
    "    def forward(self, x):\n",
    "        x = self.conv(x)\n",
    "        x = x.view(-1, 4*4*128)\n",
    "        x = torch.sigmoid(self.fct(x))\n",
    "        # x = self.fct(x)\n",
    "        # x = F.softmax(self.fct(x),dim=-1)\n",
    "        return x"
   ]
  },
  {
   "cell_type": "code",
   "execution_count": 11,
   "metadata": {},
   "outputs": [],
   "source": [
    "class Classifier2(nn.Module):\n",
    "    \"\"\"Convnet Classifier\"\"\"\n",
    "    def __init__(self ):\n",
    "        \n",
    "        kernel_sz = np.array([11,9,9,7,3,3])\n",
    "        pad = kernel_sz // 2 \n",
    "        pad[4] = 0\n",
    "        \n",
    "        super(Classifier2, self).__init__()\n",
    "        self.conv = nn.Sequential(\n",
    "            # Layer 1\n",
    "            nn.Conv2d(in_channels=3, out_channels=16, kernel_size= (kernel_sz[0],kernel_sz[0]) , padding=pad[0] ),\n",
    "            nn.ReLU(),\n",
    "            nn.MaxPool2d(kernel_size=(2, 2), stride=2),\n",
    "            \n",
    "            # Layer 2\n",
    "            nn.Conv2d(in_channels=16, out_channels=32, kernel_size= (kernel_sz[1],kernel_sz[1]) , padding=pad[1]),\n",
    "            nn.ReLU(),\n",
    "            # nn.MaxPool2d(kernel_size=(2, 2), stride=2),\n",
    "            \n",
    "            # Layer 3\n",
    "            nn.Conv2d(in_channels=32, out_channels=64, kernel_size= (kernel_sz[2],kernel_sz[2]) , padding=pad[2]),\n",
    "            nn.ReLU(),\n",
    "            nn.MaxPool2d(kernel_size=(2, 2), stride=2),\n",
    "            \n",
    "            # Layer 4\n",
    "            nn.Conv2d(in_channels=64, out_channels=128, kernel_size= (kernel_sz[3],kernel_sz[3]) , padding=pad[3]),\n",
    "            nn.ReLU(),\n",
    "            nn.MaxPool2d(kernel_size=(2, 2), stride=2),\n",
    "            \n",
    "            # Layer 5\n",
    "            nn.Conv2d(in_channels=128, out_channels=256, kernel_size= (kernel_sz[4],kernel_sz[4]) , padding=pad[4]),\n",
    "            nn.ReLU(),\n",
    "            nn.MaxPool2d(kernel_size=(2, 2), stride=2),\n",
    "            \n",
    "            # Layer 6\n",
    "            nn.Conv2d(in_channels=256, out_channels=512, kernel_size= (kernel_sz[5], kernel_sz[5]) , padding=pad[5]),\n",
    "            nn.ReLU(),\n",
    "            nn.MaxPool2d(kernel_size=(2, 2), stride=2)\n",
    "        )\n",
    "        # \n",
    "        self.fct1 = nn.Linear(512, 512)\n",
    "        self.fct2 = nn.Linear(512, 1)\n",
    "\n",
    "    def forward(self, x):\n",
    "        x = self.conv(x)\n",
    "        x = x.squeeze()\n",
    "        x = F.relu(self.fct1(x))\n",
    "        x = torch.sigmoid(self.fct2(x))\n",
    "        return x"
   ]
  },
  {
   "cell_type": "markdown",
   "metadata": {},
   "source": [
    "taken from :  \n",
    "https://medium.com/@harsathAI/cats-and-dogs-classifier-convolutional-neural-network-with-python-and-tensorflow-9-steps-of-6259c92802f3"
   ]
  },
  {
   "cell_type": "code",
   "execution_count": 12,
   "metadata": {},
   "outputs": [],
   "source": [
    "class Classifier3(nn.Module):\n",
    "    \"\"\"Convnet Classifier\"\"\"\n",
    "    def __init__(self ):\n",
    "        \n",
    "        kernel_sz = np.array([5,5,5,5,3,3])\n",
    "        # kernel_sz = np.array([3,3,3,3,3,3])\n",
    "        pad = kernel_sz // 2 \n",
    "        # pad[4] = 0\n",
    "        \n",
    "        super(Classifier3, self).__init__()\n",
    "        self.conv = nn.Sequential(\n",
    "            # Layer 1\n",
    "            nn.Conv2d(in_channels=3, out_channels=16, kernel_size= (kernel_sz[0],kernel_sz[0]) , padding=pad[0] ),\n",
    "            nn.MaxPool2d(kernel_size=(2, 2), stride=2),\n",
    "            nn.ReLU(),\n",
    "            \n",
    "            # Layer 2\n",
    "            nn.Conv2d(in_channels=16, out_channels=32, kernel_size= (kernel_sz[1],kernel_sz[1]) , padding=pad[1]),\n",
    "            nn.ReLU(),\n",
    "            nn.MaxPool2d(kernel_size=(2, 2), stride=2),\n",
    "            \n",
    "            # Layer 3\n",
    "            nn.Conv2d(in_channels=32, out_channels=64, kernel_size= (kernel_sz[2],kernel_sz[2]) , padding=pad[2]),\n",
    "            nn.ReLU(),\n",
    "            nn.MaxPool2d(kernel_size=(2, 2), stride=2),\n",
    "            \n",
    "            # Layer 4\n",
    "            nn.Conv2d(in_channels=64, out_channels=128, kernel_size= (kernel_sz[3],kernel_sz[3]) , padding=pad[3]),\n",
    "            nn.ReLU(),\n",
    "            # nn.MaxPool2d(kernel_size=(2, 2), stride=2),\n",
    "            \n",
    "            # Layer 5\n",
    "            nn.Conv2d(in_channels=128, out_channels=128, kernel_size= (kernel_sz[4],kernel_sz[4]) , padding=pad[4]),\n",
    "            nn.ReLU(),\n",
    "            # nn.MaxPool2d(kernel_size=(2, 2), stride=2),\n",
    "            \n",
    "            # Layer 6\n",
    "            nn.Conv2d(in_channels=128, out_channels=256, kernel_size= (kernel_sz[5], kernel_sz[5]) , padding=pad[5]),\n",
    "            nn.ReLU(),\n",
    "            # nn.MaxPool2d(kernel_size=(2, 2), stride=2)\n",
    "        )\n",
    "        # \n",
    "        self.fct = nn.Linear(8*8*256, 2)\n",
    "\n",
    "    def forward(self, x):\n",
    "        x = self.conv(x)\n",
    "        x = x.view(-1,8*8*256)\n",
    "        x = F.relu(self.fct(x))\n",
    "        # x = torch.sigmoid(x)\n",
    "        x = F.softmax(x,dim=-1)\n",
    "        return x"
   ]
  },
  {
   "cell_type": "code",
   "execution_count": 13,
   "metadata": {},
   "outputs": [],
   "source": [
    "class Classifier4(nn.Module):\n",
    "    \"\"\"Convnet Classifier\"\"\"\n",
    "    def __init__(self ):\n",
    "        \n",
    "        kernel_sz = np.array([5,5,5,5,3,3])\n",
    "        pad = kernel_sz // 2 \n",
    "        pad[5] = 0\n",
    "        \n",
    "        super(Classifier4, self).__init__()\n",
    "        self.conv = nn.Sequential(\n",
    "            # Layer 1\n",
    "            nn.Conv2d(in_channels=3, out_channels=16, kernel_size= (kernel_sz[0],kernel_sz[0]) , padding=pad[0] ),\n",
    "            nn.ReLU(),\n",
    "            \n",
    "            # Layer 2\n",
    "            nn.Conv2d(in_channels=16, out_channels=32, kernel_size= (kernel_sz[1],kernel_sz[1]) , padding=pad[1]),\n",
    "            nn.ReLU(),\n",
    "            nn.MaxPool2d(kernel_size=(2, 2), stride=2),\n",
    "            \n",
    "            # Layer 3\n",
    "            nn.Conv2d(in_channels=32, out_channels=64, kernel_size= (kernel_sz[1],kernel_sz[1]) , padding=pad[1]),\n",
    "            nn.ReLU(),\n",
    "            nn.MaxPool2d(kernel_size=(2, 2), stride=2),\n",
    "\n",
    "            # Layer 4\n",
    "            nn.Conv2d(in_channels=64, out_channels=128, kernel_size= (kernel_sz[3],kernel_sz[3]) , padding=pad[3]),\n",
    "            nn.ReLU(),\n",
    "            nn.MaxPool2d(kernel_size=(2, 2), stride=2),\n",
    "\n",
    "            # Layer 5\n",
    "            nn.Conv2d(in_channels=128, out_channels=256, kernel_size= (kernel_sz[4],kernel_sz[4]) , padding=pad[4]),\n",
    "            nn.ReLU(),\n",
    "            nn.MaxPool2d(kernel_size=(2, 2), stride=2),\n",
    "            \n",
    "            # Layer 6\n",
    "            nn.Conv2d(in_channels=256, out_channels=512, kernel_size= (kernel_sz[5], kernel_sz[5]) , padding=pad[5]),\n",
    "            nn.Tanh(),\n",
    "            nn.MaxPool2d(kernel_size=(2, 2), stride=2)\n",
    "        )\n",
    "        # \n",
    "        self.fct1 = nn.Linear(1*1*512, 512)\n",
    "        self.fct2 = nn.Linear(512, 2)\n",
    "\n",
    "    def forward(self, x):\n",
    "        x = self.conv(x)\n",
    "        x = x.view(-1,1*1*512)\n",
    "        x = F.relu(self.fct1(x))\n",
    "        x = F.relu(self.fct2(x))\n",
    "        x = F.softmax(x,dim=-1)\n",
    "        return x"
   ]
  },
  {
   "cell_type": "code",
   "execution_count": 39,
   "metadata": {},
   "outputs": [],
   "source": [
    "class Classifier5(nn.Module):\n",
    "    \"\"\"Convnet Classifier\"\"\"\n",
    "    def __init__(self ):\n",
    "        \n",
    "        kernel_sz = np.array([5,5,3,3,3,3,3,3])\n",
    "        pad = kernel_sz // 2 \n",
    "        pad[7] = 0 \n",
    "        \n",
    "        super(Classifier5, self).__init__()\n",
    "        self.conv = nn.Sequential(\n",
    "            # Layer 1\n",
    "            nn.Conv2d(in_channels=3, out_channels=16, kernel_size= (kernel_sz[0],kernel_sz[0]) , padding=pad[0] ),\n",
    "            nn.ReLU(),\n",
    "            nn.MaxPool2d(kernel_size=(2, 2), stride=2),\n",
    "            \n",
    "            # Layer 2\n",
    "            nn.Conv2d(in_channels=16, out_channels=32, kernel_size= (kernel_sz[1],kernel_sz[1]) , padding=pad[1]),\n",
    "            nn.ReLU(),\n",
    "            nn.MaxPool2d(kernel_size=(2, 2), stride=2),\n",
    "            \n",
    "            # Layer 3\n",
    "            nn.Conv2d(in_channels=32, out_channels=64, kernel_size= (kernel_sz[1],kernel_sz[1]) , padding=pad[1]),\n",
    "            nn.ReLU(),\n",
    "            nn.MaxPool2d(kernel_size=(2, 2), stride=2),\n",
    "\n",
    "            # Layer 4\n",
    "            nn.Conv2d(in_channels=64, out_channels=128, kernel_size= (kernel_sz[3],kernel_sz[3]) , padding=pad[3]),\n",
    "            nn.ReLU(),\n",
    "\n",
    "            # Layer 5\n",
    "            nn.Conv2d(in_channels=128, out_channels=256, kernel_size= (kernel_sz[4],kernel_sz[4]) , padding=pad[4]),\n",
    "            nn.ReLU(),\n",
    "            nn.MaxPool2d(kernel_size=(2, 2), stride=2),\n",
    "            \n",
    "            # Layer 6\n",
    "            nn.Conv2d(in_channels=256, out_channels=256, kernel_size= (kernel_sz[5], kernel_sz[5]) , padding=pad[5]),\n",
    "            nn.ReLU(),\n",
    "            nn.MaxPool2d(kernel_size=(2, 2), stride=2),\n",
    "            \n",
    "            # Layer 7\n",
    "            nn.Conv2d(in_channels=256, out_channels=512, kernel_size= (kernel_sz[6], kernel_sz[6]) , padding=pad[6]),\n",
    "            nn.Tanh(),\n",
    "            nn.MaxPool2d(kernel_size=(2, 2), stride=2)\n",
    "            \n",
    "        )\n",
    "        # \n",
    "        self.fct1b = nn.Linear(1*1*512, 2)\n",
    "\n",
    "    def forward(self, x):\n",
    "        x = self.conv(x)\n",
    "        x = x.view(-1,1*1*512)\n",
    "        x = F.relu(self.fct1b(x))\n",
    "        x = F.softmax(x,dim=-1)\n",
    "        return x"
   ]
  },
  {
   "cell_type": "code",
   "execution_count": 197,
   "metadata": {},
   "outputs": [],
   "source": [
    "class Classifier6(nn.Module):\n",
    "    \"\"\"Convnet Classifier\"\"\"\n",
    "    def __init__(self ):\n",
    "        \n",
    "        kernel_sz = np.array([11,9,7,3,3,3,3,3,2])\n",
    "        pad = kernel_sz // 2 \n",
    "        pad[8] = 0 \n",
    "        \n",
    "        super(Classifier6, self).__init__()\n",
    "        self.conv = nn.Sequential(\n",
    "            # Layer 1, feature map size = 64^2\n",
    "            nn.Conv2d(in_channels=3, out_channels=16, kernel_size= (kernel_sz[0],kernel_sz[0]) , padding=pad[0] ),\n",
    "            nn.ReLU(),\n",
    "            nn.MaxPool2d(kernel_size=(2, 2), stride=2),\n",
    "            \n",
    "            # Layer 2, feature map size = 32^2\n",
    "            nn.Conv2d(in_channels=16, out_channels=32, kernel_size= (kernel_sz[1],kernel_sz[1]) , padding=pad[1]),\n",
    "            nn.ReLU(),\n",
    "            nn.MaxPool2d(kernel_size=(2, 2), stride=2),\n",
    "            \n",
    "            # Layer 3, feature map size = 16^2\n",
    "            nn.Conv2d(in_channels=32, out_channels=64, kernel_size= (kernel_sz[1],kernel_sz[1]) , padding=pad[1]),\n",
    "            nn.ReLU(),\n",
    "            nn.MaxPool2d(kernel_size=(3, 3), stride=1, padding=1),\n",
    "\n",
    "            # Layer 4, feature map size = 16^2\n",
    "            nn.Conv2d(in_channels=64, out_channels=128, kernel_size= (kernel_sz[3],kernel_sz[3]) , padding=pad[3]),\n",
    "            nn.ReLU(),\n",
    "            nn.MaxPool2d(kernel_size=(3, 3), stride=1, padding=1),\n",
    "\n",
    "            # Layer 5, feature map size = 16^2\n",
    "            nn.Conv2d(in_channels=128, out_channels=128, kernel_size= (kernel_sz[4],kernel_sz[4]) , padding=pad[4]),\n",
    "            nn.ReLU(),\n",
    "            nn.MaxPool2d(kernel_size=(3, 3), stride=1, padding=1),\n",
    "            \n",
    "            # Layer 6, feature map size = 16^2\n",
    "            nn.Conv2d(in_channels=128, out_channels=128, kernel_size= (kernel_sz[5], kernel_sz[5]) , padding=pad[5]),\n",
    "            nn.ReLU(),\n",
    "            nn.MaxPool2d(kernel_size=(2, 2), stride=2),\n",
    "            \n",
    "            # Layer 7, feature map size = 8^2\n",
    "            nn.Conv2d(in_channels=128, out_channels=128, kernel_size= (kernel_sz[6], kernel_sz[6]) , padding=pad[6]),\n",
    "            nn.ReLU(),\n",
    "            nn.MaxPool2d(kernel_size=(2, 2), stride=2),\n",
    "            \n",
    "            # Layer 8, feature map size = 4^2\n",
    "            nn.Conv2d(in_channels=128, out_channels=256, kernel_size= (kernel_sz[7], kernel_sz[7]) , padding=pad[7]),\n",
    "            nn.ReLU(),\n",
    "            nn.MaxPool2d(kernel_size=(2, 2), stride=2),\n",
    "            \n",
    "            # Layer 9, feature map size = 2^2\n",
    "            nn.Conv2d(in_channels=256, out_channels=512, kernel_size= (kernel_sz[8], kernel_sz[8]) , padding=pad[8]),\n",
    "            nn.Tanh(),      \n",
    "        )\n",
    "        # \n",
    "        self.fct1b = nn.Linear(1*1*512, 2)\n",
    "\n",
    "    def forward(self, x):\n",
    "        x = self.conv(x)\n",
    "        x = x.view(-1,1*1*512)\n",
    "        x = F.softmax( self.fct1b(x) ,dim=-1)\n",
    "        return x"
   ]
  },
  {
   "cell_type": "markdown",
   "metadata": {},
   "source": [
    "Print the number of parameters in each models and display the computation "
   ]
  },
  {
   "cell_type": "code",
   "execution_count": 199,
   "metadata": {},
   "outputs": [
    {
     "name": "stdout",
     "output_type": "stream",
     "text": [
      "number of params =  1550882  =   \n",
      " (conv.0.weight)          16*3*11*11\n",
      " (conv.0.bias)          + 16\n",
      " (conv.3.weight)        + 32*16*9*9\n",
      " (conv.3.bias)          + 32\n",
      " (conv.6.weight)        + 64*32*9*9\n",
      " (conv.6.bias)          + 64\n",
      " (conv.9.weight)        + 128*64*3*3\n",
      " (conv.9.bias)          + 128\n",
      " (conv.12.weight)       + 128*128*3*3\n",
      " (conv.12.bias)         + 128\n",
      " (conv.15.weight)       + 128*128*3*3\n",
      " (conv.15.bias)         + 128\n",
      " (conv.18.weight)       + 128*128*3*3\n",
      " (conv.18.bias)         + 128\n",
      " (conv.21.weight)       + 256*128*3*3\n",
      " (conv.21.bias)         + 256\n",
      " (conv.24.weight)       + 512*256*2*2\n",
      " (conv.24.bias)         + 512\n",
      " (fct1b.weight)         + 2*512\n",
      " (fct1b.bias)           + 2\n"
     ]
    }
   ],
   "source": [
    "import torchvision.models # for vgg16\n",
    "\n",
    "def number_of_params( net ) :\n",
    "    nb_param  = 0\n",
    "    param_lst = \" \"\n",
    "    for i, (key, value) in enumerate( net.state_dict().items() ) :\n",
    "        \n",
    "        if i == 0 :\n",
    "            param_lst = param_lst + \"\\n ({:<20}    \".format( key + \")\" )\n",
    "        else :\n",
    "            param_lst = param_lst + \"\\n ({:<20}  + \".format( key + \")\" )\n",
    "            \n",
    "            \n",
    "        nb_param_tmp = 1\n",
    "        \n",
    "        for j , x in enumerate(value.size()) :\n",
    "            if j == 0 :\n",
    "                param_lst = param_lst + \"{xx}\".format( xx = x ) \n",
    "            else :\n",
    "                param_lst = param_lst + \"*{xx}\".format( xx = x ) \n",
    "                               \n",
    "            nb_param_tmp = nb_param_tmp * x\n",
    "                   \n",
    "        nb_param = nb_param + nb_param_tmp\n",
    "        \n",
    "    print( \"number of params = \" , nb_param , \" = \", param_lst  )\n",
    "    \n",
    "# mytestnet = Classifier( kernel_sz = 9  )\n",
    "# number_of_params( mytestnet )\n",
    "# del mytestnet\n",
    "mytestnet = Classifier6( )\n",
    "number_of_params( mytestnet )\n",
    "del mytestnet\n",
    "# mytestnet = torchvision.models.vgg16( pretrained=False, num_classes=2, init_weights=True )\n",
    "# number_of_params( mytestnet )\n",
    "# del mytestnet\n",
    "# mytestnet = MLP( h1 = 500, h2= 500)\n",
    "# number_of_params( mytestnet )\n",
    "# del mytestnet"
   ]
  },
  {
   "cell_type": "markdown",
   "metadata": {},
   "source": [
    "init method"
   ]
  },
  {
   "cell_type": "code",
   "execution_count": 200,
   "metadata": {},
   "outputs": [],
   "source": [
    "def glorot_init ( layer ) :\n",
    "    \"\"\"\n",
    "    Weiths are generated from U[-d,d] where d = sqrt(6/(fan_in + fan_out)), biases are set to zero\n",
    "    \"\"\"\n",
    "    if type(layer) == nn.Linear or type(layer) == nn.Conv2d :\n",
    "        init.xavier_uniform_( layer.weight , gain=1 )\n",
    "        layer.bias.data.fill_(0.0)"
   ]
  },
  {
   "cell_type": "code",
   "execution_count": 223,
   "metadata": {},
   "outputs": [],
   "source": [
    "if True :\n",
    "    del cudanet"
   ]
  },
  {
   "cell_type": "code",
   "execution_count": 202,
   "metadata": {},
   "outputs": [],
   "source": [
    "save_state_dict_list = False\n",
    "# save_state_dict_list = True\n",
    "if save_state_dict_list :\n",
    "    state_dict_list2 = copy.deepcopy(state_dict_list) "
   ]
  },
  {
   "cell_type": "code",
   "execution_count": 203,
   "metadata": {},
   "outputs": [],
   "source": [
    "set_starting_point = False \n",
    "# set_starting_point = True \n",
    "if set_starting_point :\n",
    "    # cudanet.load_state_dict(state_dict_list[27])\n",
    "    starting_net = copy.deepcopy(cudanet).cpu()"
   ]
  },
  {
   "cell_type": "code",
   "execution_count": 204,
   "metadata": {},
   "outputs": [],
   "source": [
    "# cudanet = Classifier4()\n",
    "# cudanet.load_state_dict(starting_net.state_dict(), strict=False)\n",
    "# cudanet.to(device)"
   ]
  },
  {
   "cell_type": "code",
   "execution_count": 224,
   "metadata": {},
   "outputs": [
    {
     "data": {
      "text/plain": [
       "Classifier6(\n",
       "  (conv): Sequential(\n",
       "    (0): Conv2d(3, 16, kernel_size=(11, 11), stride=(1, 1), padding=(5, 5))\n",
       "    (1): ReLU()\n",
       "    (2): MaxPool2d(kernel_size=(2, 2), stride=2, padding=0, dilation=1, ceil_mode=False)\n",
       "    (3): Conv2d(16, 32, kernel_size=(9, 9), stride=(1, 1), padding=(4, 4))\n",
       "    (4): ReLU()\n",
       "    (5): MaxPool2d(kernel_size=(2, 2), stride=2, padding=0, dilation=1, ceil_mode=False)\n",
       "    (6): Conv2d(32, 64, kernel_size=(9, 9), stride=(1, 1), padding=(4, 4))\n",
       "    (7): ReLU()\n",
       "    (8): MaxPool2d(kernel_size=(3, 3), stride=1, padding=1, dilation=1, ceil_mode=False)\n",
       "    (9): Conv2d(64, 128, kernel_size=(3, 3), stride=(1, 1), padding=(1, 1))\n",
       "    (10): ReLU()\n",
       "    (11): MaxPool2d(kernel_size=(3, 3), stride=1, padding=1, dilation=1, ceil_mode=False)\n",
       "    (12): Conv2d(128, 128, kernel_size=(3, 3), stride=(1, 1), padding=(1, 1))\n",
       "    (13): ReLU()\n",
       "    (14): MaxPool2d(kernel_size=(3, 3), stride=1, padding=1, dilation=1, ceil_mode=False)\n",
       "    (15): Conv2d(128, 128, kernel_size=(3, 3), stride=(1, 1), padding=(1, 1))\n",
       "    (16): ReLU()\n",
       "    (17): MaxPool2d(kernel_size=(2, 2), stride=2, padding=0, dilation=1, ceil_mode=False)\n",
       "    (18): Conv2d(128, 128, kernel_size=(3, 3), stride=(1, 1), padding=(1, 1))\n",
       "    (19): ReLU()\n",
       "    (20): MaxPool2d(kernel_size=(2, 2), stride=2, padding=0, dilation=1, ceil_mode=False)\n",
       "    (21): Conv2d(128, 256, kernel_size=(3, 3), stride=(1, 1), padding=(1, 1))\n",
       "    (22): ReLU()\n",
       "    (23): MaxPool2d(kernel_size=(2, 2), stride=2, padding=0, dilation=1, ceil_mode=False)\n",
       "    (24): Conv2d(256, 512, kernel_size=(2, 2), stride=(1, 1))\n",
       "    (25): Tanh()\n",
       "  )\n",
       "  (fct1b): Linear(in_features=512, out_features=2, bias=True)\n",
       ")"
      ]
     },
     "execution_count": 224,
     "metadata": {},
     "output_type": "execute_result"
    }
   ],
   "source": [
    "get_starting_point = False \n",
    "# get_starting_point = True \n",
    "if get_starting_point :\n",
    "    cudanet = copy.deepcopy(starting_net)\n",
    "else :\n",
    "    cudanet = Classifier6()\n",
    "    # doesnt seem to help much :\n",
    "    cudanet.apply( glorot_init )\n",
    "    \n",
    "cudanet.to(device)"
   ]
  },
  {
   "cell_type": "code",
   "execution_count": 225,
   "metadata": {},
   "outputs": [],
   "source": [
    "use_BCE = False\n",
    "if use_BCE :\n",
    "    criterion = nn.BCELoss() # Binary Cross Entropy \n",
    "else :\n",
    "    criterion = nn.CrossEntropyLoss() # Cross Entropy \n",
    "    \n",
    "optimizer = optim.SGD(cudanet.parameters(), lr=0.001, momentum=0, weight_decay=0)\n",
    "nb_epoch  = 3"
   ]
  },
  {
   "cell_type": "code",
   "execution_count": 226,
   "metadata": {},
   "outputs": [
    {
     "name": "stdout",
     "output_type": "stream",
     "text": [
      "torch.Size([512, 2]) torch.Size([512])\n",
      "tensor(1.1559, device='cuda:0')\n"
     ]
    }
   ],
   "source": [
    "want_to_test = False\n",
    "want_to_test = True\n",
    "if want_to_test:\n",
    "    with torch.no_grad() :\n",
    "        for i, data in enumerate(trainloader, 0):\n",
    "            # get the inputs\n",
    "            inputs, labels = data\n",
    "            # if using BCE\n",
    "            # labels = labels.float()\n",
    "            inputs, labels = inputs.to(device), labels.to(device)\n",
    "            optimizer.zero_grad()\n",
    "            outputs = cudanet(inputs).squeeze()\n",
    "            loss = criterion(outputs, labels)\n",
    "            \n",
    "            print( outputs.size() , labels.size() )\n",
    "            print( loss )\n",
    "\n",
    "            break"
   ]
  },
  {
   "cell_type": "markdown",
   "metadata": {},
   "source": [
    "## Training the model  \n",
    "\n",
    "Note : what seems to work best   \n",
    "start with a good initialization (find one, save it, and load it instead of random init each time)\n",
    "(or 0.00075)\n",
    "begin with  : lr=0.0005   , batch_sz between 16 and 32  \n",
    "change   to : lr=0.00005  , batch_sz between 32 and 4*32  \n"
   ]
  },
  {
   "cell_type": "code",
   "execution_count": 229,
   "metadata": {},
   "outputs": [
    {
     "name": "stdout",
     "output_type": "stream",
     "text": [
      "epoch = 1, loss = 0.00984195\n",
      "epoch = 2, loss = 0.00967144\n",
      "epoch = 3, loss = 0.00955916\n",
      "Finished Training\n",
      "time required =  68.9895390625  s \n"
     ]
    }
   ],
   "source": [
    "batch_sz = 1*64\n",
    "trainloader = torch.utils.data.DataLoader(trainset, batch_size=batch_sz,shuffle=True, num_workers=0)\n",
    "\n",
    "state_dict_list = list()\n",
    "\n",
    "torch.cuda.synchronize()\n",
    "\n",
    "start = torch.cuda.Event(enable_timing=True)\n",
    "end   = torch.cuda.Event(enable_timing=True)\n",
    "start.record()\n",
    "\n",
    "for epoch in range( nb_epoch ):  # loop over the dataset multiple times \n",
    "    \n",
    "    # if epoch == 5 :\n",
    "    #     optim.SGD(cudanet.parameters(), lr=0.00001, momentum=0.0, weight_decay=0)\n",
    "        \n",
    "    # if epoch == 10 :\n",
    "    #     optim.SGD(cudanet.parameters(), lr=0.000001, momentum=0.0, weight_decay=0)\n",
    "        \n",
    "    running_loss = 0.0\n",
    "    for i, data in enumerate(trainloader, 0):\n",
    "        # get the inputs\n",
    "        inputs, labels = data\n",
    "        # if using BCE :\n",
    "        # labels = labels.float() \n",
    "        inputs, labels = inputs.to(device), labels.to(device)\n",
    "        \n",
    "        # zero the parameter gradients\n",
    "        optimizer.zero_grad()\n",
    "\n",
    "        # forward + backward + optimize\n",
    "        \n",
    "        # is using CE, squeeze does nothing :\n",
    "        outputs = cudanet(inputs).squeeze()\n",
    "        \n",
    "        # if i == 0 : print( outputs )\n",
    "        loss = criterion(outputs, labels)\n",
    "        loss.backward()\n",
    "        optimizer.step()\n",
    "\n",
    "        # print statistics\n",
    "        running_loss += loss.item()\n",
    "    else : # print every epoch\n",
    "        print('epoch = %d, loss = %.8f' % (epoch + 1, running_loss / training_dataset_size)) # nb of sample per mini-batch\n",
    "        running_loss = 0.0\n",
    "        torch.cuda.synchronize()\n",
    "        tmp_state_dict = {}\n",
    "        for k, v in cudanet.state_dict().items():\n",
    "            tmp_state_dict[k] = v.cpu()\n",
    "        state_dict_list.append( tmp_state_dict )\n",
    "        torch.cuda.synchronize()\n",
    "        \n",
    "else : \n",
    "    print('Finished Training')\n",
    "    \n",
    "end.record()\n",
    "torch.cuda.synchronize()\n",
    "print( \"time required = \" , start.elapsed_time(end)*0.001 , \" s \")"
   ]
  },
  {
   "cell_type": "markdown",
   "metadata": {},
   "source": [
    "#### test accuracy of the current state on validation dataset"
   ]
  },
  {
   "cell_type": "code",
   "execution_count": 230,
   "metadata": {},
   "outputs": [
    {
     "name": "stdout",
     "output_type": "stream",
     "text": [
      "Accuracy of the network on the 3998 test images: 68.41 %\n"
     ]
    }
   ],
   "source": [
    "testsloader = torch.utils.data.DataLoader(testsset, batch_size=8*64,shuffle=False, num_workers=0)\n",
    "correct = torch.tensor([0])\n",
    "total = torch.tensor([0])\n",
    "\n",
    "want_to_use_current_state = True\n",
    "\n",
    "if not want_to_use_current_state :\n",
    "    epoch = 28\n",
    "    tmp_state_dict = state_dict_list[epoch]\n",
    "    cuda_test_net = copy.deepcopy( cudanet )\n",
    "    cuda_test_net.load_state_dict( tmp_state_dict )\n",
    "    cuda_test_net.to(device)\n",
    "else :\n",
    "    cuda_test_net = cudanet\n",
    "    \n",
    "correct, total = correct.to(device) , total.to(device) \n",
    "with torch.no_grad():\n",
    "    for data in testsloader:\n",
    "        images, labels = data\n",
    "        # if using BCE\n",
    "        # labels = labels.float()\n",
    "        images, labels = images.to(device), labels.to(device)\n",
    "        outputs = cuda_test_net(images).squeeze()\n",
    "        # if using BCE\n",
    "        # predicted = torch.where(outputs > 0.5, torch.ones_like(labels, device=device) , torch.zeros_like(labels, device=device) )\n",
    "        # if using multi class cross entropy\n",
    "        _, predicted = torch.max(outputs.data, 1)\n",
    "        total += labels.size(0)\n",
    "        correct += (predicted == labels).sum()\n",
    "\n",
    "print('Accuracy of the network on the' , testing_dataset_size , 'test images: %.2f %%' \n",
    "          % ( (100 * correct.double()) / total.double()  )\n",
    "     ) "
   ]
  },
  {
   "cell_type": "markdown",
   "metadata": {},
   "source": [
    "#### accuracy across epoch"
   ]
  },
  {
   "cell_type": "code",
   "execution_count": 231,
   "metadata": {},
   "outputs": [
    {
     "name": "stdout",
     "output_type": "stream",
     "text": [
      "epoch   1 : Accuracy of the network on the test images: 64.01 % , training images 64.72 % \n",
      "epoch   2 : Accuracy of the network on the test images: 68.63 % , training images 69.97 % \n",
      "epoch   3 : Accuracy of the network on the test images: 68.41 % , training images 69.49 % \n"
     ]
    }
   ],
   "source": [
    "trainloader = torch.utils.data.DataLoader(trainset , batch_size = 8*64 , shuffle=False , num_workers=0)\n",
    "testsloader = torch.utils.data.DataLoader(testsset , batch_size = 8*64, shuffle=False , num_workers=0)\n",
    "\n",
    "accuracy = torch.ones(nb_epoch,2, dtype=torch.float) * 100\n",
    "for epoch , tmp_state_dict in enumerate(state_dict_list,0) :\n",
    "    if epoch % 1 != 0 :\n",
    "        continue\n",
    "        \n",
    "    cudaTOCPUnet = copy.deepcopy( cudanet )\n",
    "    cudaTOCPUnet.load_state_dict( tmp_state_dict )\n",
    "    cuda_test_net = copy.deepcopy(cudaTOCPUnet).to(device)\n",
    "    \n",
    "    correct = torch.tensor([0,0])\n",
    "    total   = torch.tensor([0,0])\n",
    "    \n",
    "    correct, total = correct.to(device) , total.to(device) \n",
    "        \n",
    "    loader_list = [ testsloader , trainloader ]\n",
    "    with torch.no_grad():\n",
    "        for i, loader in enumerate(loader_list,0) :\n",
    "            for data in loader:\n",
    "                images, labels = data\n",
    "                # if using BCE\n",
    "                # labels = labels.float()\n",
    "                images, labels = images.to(device), labels.to(device)\n",
    "                outputs = cuda_test_net(images).squeeze()\n",
    "                # if using BCE\n",
    "                # predicted = torch.where(outputs > 0.5, torch.ones_like(labels, device=device) , torch.zeros_like(labels, device=device) )\n",
    "                # if using multi class cross entropy\n",
    "                _, predicted = torch.max(outputs.data, 1)\n",
    "                total[i] += labels.size(0)\n",
    "                correct[i] += (predicted == labels).sum()\n",
    "    \n",
    "    accuracy[epoch,:] = accuracy[epoch,:] * correct.type(torch.FloatTensor) / total.type(torch.FloatTensor)\n",
    "    \n",
    "    print('epoch %3d : Accuracy of the network on the test images: %.2f %% , training images %.2f %% ' \n",
    "              % ( epoch+1, accuracy[epoch,0] , accuracy[epoch,1] )\n",
    "         )"
   ]
  },
  {
   "cell_type": "markdown",
   "metadata": {},
   "source": [
    "### Plot accuracy"
   ]
  },
  {
   "cell_type": "code",
   "execution_count": 232,
   "metadata": {},
   "outputs": [
    {
     "data": {
      "image/png": "[encoded data removed]",
      "text/plain": [
       "<Figure size 864x576 with 1 Axes>"
      ]
     },
     "metadata": {
      "needs_background": "light"
     },
     "output_type": "display_data"
    }
   ],
   "source": [
    "from matplotlib.pyplot import figure\n",
    "# import warnings\n",
    "# warnings.filterwarnings('ignore')\n",
    "\n",
    "# data to plot\n",
    "n_groups = nb_epoch \n",
    "accuracy_toplot = accuracy.numpy()\n",
    "\n",
    "tests_accuracy = accuracy_toplot[:,0]\n",
    "train_accuracy = accuracy_toplot[:,1]\n",
    "\n",
    "#\n",
    "plt.rcParams.update({'font.size': 16})\n",
    "plt.rcParams[\"figure.figsize\"] = (12 ,8)\n",
    "# create plot\n",
    "fig, ax = plt.subplots()\n",
    "index = np.arange(n_groups)\n",
    "bar_width = 0.3\n",
    "opacity = 0.8\n",
    " \n",
    "rects1 = plt.bar(index, tests_accuracy, bar_width,\n",
    "                 alpha=opacity,\n",
    "                 color='blue',\n",
    "                 label='Test set')\n",
    " \n",
    "rects2 = plt.bar(index + bar_width, train_accuracy, bar_width,\n",
    "                 alpha=opacity,\n",
    "                 color='r',\n",
    "                 label='Training set')\n",
    "\n",
    "eps = 3 \n",
    "top = min(int( np.ceil(accuracy_toplot.max() + eps)) , 100)\n",
    "bot = max(int(np.floor(accuracy_toplot.min() - eps)) , 0  )\n",
    "\n",
    "\n",
    "plt.ylim(bot, top)     # set the ylim to bottom, top\n",
    "plt.axhline(y=75,color=\"black\")\n",
    "\n",
    "plt.xlabel('Epoch')\n",
    "plt.ylabel('Accuracy')\n",
    "plt.title('Comparison between training set and test set accuracy \\nduring the training phase')\n",
    "plt.xticks(index + bar_width, range(1,n_groups,1) )\n",
    "plt.yticks( range(bot,top+1,1) )\n",
    "plt.legend()\n",
    "\n",
    "# plt.tight_layout()\n",
    "plt.show()"
   ]
  },
  {
   "cell_type": "markdown",
   "metadata": {},
   "source": [
    "# Misc"
   ]
  },
  {
   "cell_type": "markdown",
   "metadata": {},
   "source": [
    "#### print some test sample that the net misclassifies"
   ]
  },
  {
   "cell_type": "code",
   "execution_count": null,
   "metadata": {},
   "outputs": [],
   "source": [
    "testsloader = torch.utils.data.DataLoader(testsset , batch_size = 8*64, shuffle=True , num_workers=0)\n",
    "\n",
    "nb_of_error = torch.tensor([8])\n",
    "j = torch.tensor([0])\n",
    "errorimages  = torch.empty(8,3,64,64)\n",
    "errorlabels  = torch.empty(8)\n",
    "erroroutputs = torch.empty(8)\n",
    "for images, labels in testsloader :\n",
    "    images, labels = images.to(device), labels.to(device)\n",
    "    outputs = cuda_test_net(images).squeeze()\n",
    "    predicted = torch.where(\n",
    "                    outputs > 0.5, torch.ones_like(labels, device=device) , torch.zeros_like(labels, device=device) \n",
    "                    )\n",
    "    if not (predicted == labels).sum() == labels.size()[0] :\n",
    "        comparison = (predicted == labels)\n",
    "        for i,b in enumerate( comparison ) :\n",
    "            if b == 0 :\n",
    "                errorimages[j,:,:,:] = copy.deepcopy(images[i,:,:,:]).cpu()\n",
    "                errorlabels[j] = labels[i].clone().detach().requires_grad_(False).cpu()\n",
    "                erroroutputs[j] = outputs[i].clone().detach().requires_grad_(False).cpu()\n",
    "                j = j + 1\n",
    "                if j.item() >= nb_of_error.item() :\n",
    "                    break\n",
    "        else :\n",
    "            continue\n",
    "        break\n",
    "        \n",
    "if j.item() == 0 :\n",
    "    print( \"no error found\")\n",
    "else :\n",
    "    imshow( torchvision.utils.make_grid(errorimages) )\n",
    "    \n",
    "    print( \"Probabilities goes from : 0 -> this is a dog for sure , to 1 -> cat for sure\")\n",
    "    print( \"this should be          : \" , \",\".join( \" %-4d\" % nb.item() for nb in errorlabels ) ) \n",
    "    print( \"net associated prob     : \" , \",\".join( \"%5.2f\" % nb.item() for nb in erroroutputs ) ) "
   ]
  },
  {
   "cell_type": "markdown",
   "metadata": {},
   "source": [
    "Does stuff"
   ]
  },
  {
   "cell_type": "code",
   "execution_count": 310,
   "metadata": {},
   "outputs": [
    {
     "name": "stdout",
     "output_type": "stream",
     "text": [
      "1 name :  conv.0.weight  : \n",
      " torch.Size([16, 3, 5, 5])\n",
      "2 name :  conv.0.bias  : \n",
      " torch.Size([16])\n",
      "3 name :  conv.3.weight  : \n",
      " torch.Size([32, 16, 5, 5])\n",
      "4 name :  conv.3.bias  : \n",
      " torch.Size([32])\n",
      "5 name :  conv.6.weight  : \n",
      " torch.Size([64, 32, 5, 5])\n",
      "6 name :  conv.6.bias  : \n",
      " torch.Size([64])\n",
      "7 name :  conv.9.weight  : \n",
      " torch.Size([128, 64, 5, 5])\n",
      "8 name :  conv.9.bias  : \n",
      " torch.Size([128])\n",
      "9 name :  conv.11.weight  : \n",
      " torch.Size([128, 128, 5, 5])\n",
      "10 name :  conv.11.bias  : \n",
      " torch.Size([128])\n",
      "11 name :  conv.13.weight  : \n",
      " torch.Size([256, 128, 3, 3])\n",
      "12 name :  conv.13.bias  : \n",
      " torch.Size([256])\n",
      "13 name :  fct.weight  : \n",
      " torch.Size([2, 16384])\n",
      "14 name :  fct.bias  : \n",
      " torch.Size([2])\n"
     ]
    }
   ],
   "source": [
    "for i,(name,layer) in enumerate(cudanet.named_parameters(),1) :\n",
    "    print(i , \"name : \" , name , \" : \\n\" , layer.size() )"
   ]
  },
  {
   "cell_type": "markdown",
   "metadata": {},
   "source": [
    "#### Vizualize conv weigths"
   ]
  },
  {
   "cell_type": "code",
   "execution_count": 200,
   "metadata": {},
   "outputs": [
    {
     "name": "stdout",
     "output_type": "stream",
     "text": [
      "conv.0.weight  =  [[ -1 -14   6   2   9   8 -12]\n",
      " [ 13   4   4  -5 -13  -1   3]\n",
      " [-12 -11 -13  10   3   7   1]\n",
      " [  3  -8  -6 -11 -13   1  -4]\n",
      " [  5   1  14   0   5 -10   0]\n",
      " [ -8  11  14  14  -5  -4 -11]\n",
      " [  8   0 -11   7 -10  -2 -14]]\n"
     ]
    },
    {
     "data": {
      "image/png": "[encoded data removed]",
      "text/plain": [
       "<Figure size 864x576 with 1 Axes>"
      ]
     },
     "metadata": {
      "needs_background": "light"
     },
     "output_type": "display_data"
    }
   ],
   "source": [
    "for layer, weight in cudanet.state_dict().items() :\n",
    "    if layer.startswith(\"conv\") and layer.endswith(\"weight\") :\n",
    "        tmp_weight = copy.deepcopy(weight.data).cpu().numpy() * 255\n",
    "        tmp_weight = tmp_weight.astype(int)\n",
    "        print(layer , \" = \" , tmp_weight[0,0,...])\n",
    "        plt.imshow(tmp_weight[0,0,...])\n",
    "        break\n",
    "        "
   ]
  },
  {
   "cell_type": "markdown",
   "metadata": {},
   "source": [
    "### Save and load models"
   ]
  },
  {
   "cell_type": "code",
   "execution_count": 233,
   "metadata": {},
   "outputs": [],
   "source": [
    "# save current state only\n",
    "saving_path = \"./save/dev1num3model.pth\"\n",
    "cudanet_tocpu = cudanet.cpu()\n",
    "tmp_state_dict = cudanet_tocpu.state_dict()\n",
    "torch.save( tmp_state_dict , saving_path )"
   ]
  },
  {
   "cell_type": "code",
   "execution_count": 15,
   "metadata": {},
   "outputs": [],
   "source": [
    "# load one state\n",
    "loading_path = \"./save/dev1num3model.pth\"\n",
    "cudanet_tocpu = Classifier4()\n",
    "cudanet_tocpu.load_state_dict(torch.load(loading_path))\n",
    "cudanet = copy.deepcopy( cudanet_tocpu ).to(device)"
   ]
  },
  {
   "cell_type": "markdown",
   "metadata": {},
   "source": [
    "#### Save the state_dict of the model for each epoch on a local directory"
   ]
  },
  {
   "cell_type": "code",
   "execution_count": 74,
   "metadata": {},
   "outputs": [],
   "source": [
    "local_path = \"./save\"\n",
    "for epoch , tmp_state_dict in enumerate(state_dict_list,1) :\n",
    "    saving_path = local_path + \"/dev1num3model_for_epoch{Epoch}.pth\".format( Epoch = epoch )\n",
    "    torch.save( tmp_state_dict , saving_path)\n",
    "    # print( saving_path )"
   ]
  },
  {
   "cell_type": "markdown",
   "metadata": {},
   "source": [
    "#### load from file and set the load the state_dict of the last epoch on a object\n",
    "the files have to be located in \"./save\" and named \"dev1num3model_for_epoch{j}.pth\" for j from ... to ..."
   ]
  },
  {
   "cell_type": "code",
   "execution_count": 59,
   "metadata": {},
   "outputs": [],
   "source": [
    "local_path = \"./save\"\n",
    "state_dict_list = list()\n",
    "\n",
    "from_idx = 1\n",
    "to_idx   = nb_epoch\n",
    "\n",
    "for epoch in range( from_idx  , to_idx + 1 , 1 ):\n",
    "    path = local_path + \"/dev1num3model_for_epoch{Epoch}.pth\".format( Epoch = epoch )\n",
    "    tmp_dict = torch.load(path)\n",
    "    state_dict_list.append(tmp_dict)\n",
    "    # print( path )\n",
    "else : \n",
    "    cudanet = Classifier( kernel_sz = 9 )\n",
    "    cudanet.load_state_dict(tmp_dict)\n",
    "    cudanet.to(device)\n",
    "    cudanet.eval()                     "
   ]
  },
  {
   "cell_type": "markdown",
   "metadata": {},
   "source": [
    "### Other stuff  \n",
    "see some models :  \n",
    "https://pytorch.org/docs/stable/torchvision/models.html"
   ]
  },
  {
   "cell_type": "markdown",
   "metadata": {},
   "source": [
    "dense net as in :  \n",
    "https://pytorch.org/docs/stable/_modules/torchvision/models/densenet.html#densenet121"
   ]
  },
  {
   "cell_type": "code",
   "execution_count": null,
   "metadata": {},
   "outputs": [],
   "source": [
    "class Classifier4(nn.Module):\n",
    "    \"\"\"Convnet Classifier\"\"\"\n",
    "    def __init__(self ):\n",
    "        \n",
    "        kernel_sz = np.array([5,5,5,5,3,3])\n",
    "        # kernel_sz = np.array([3,3,3,3,3,3])\n",
    "        pad = kernel_sz // 2 \n",
    "        # pad[4] = 0\n",
    "        \n",
    "        super(Classifier4, self).__init__()\n",
    "        \n",
    "        # pooling function\n",
    "        self.pool1 = nn.MaxPool2d(kernel_size=(2, 2), stride=2)\n",
    "        \n",
    "        # Layer 1\n",
    "        self.conv1 = nn.Conv2d(in_channels=3, out_channels=16, kernel_size= (kernel_sz[0],kernel_sz[0]) , padding=pad[0] )\n",
    "        \n",
    "        # Fully connected layer\n",
    "        self.lin1  = nn.Linear(32*32*16, 32*32*16)\n",
    "\n",
    "        # Layer 2\n",
    "        self.conv2 = nn.Conv2d(in_channels=16, out_channels=32, kernel_size= (kernel_sz[1],kernel_sz[1]) , padding=pad[1])\n",
    "    \n",
    "        # Fully connected layer\n",
    "        self.lin2 = self.lin1  = nn.Linear(16*16*32, 16*16*32)\n",
    "        \n",
    "        # Layer 3\n",
    "        self.conv3 = nn.Conv2d(in_channels=32, out_channels=64, kernel_size= (kernel_sz[1],kernel_sz[1]) , padding=pad[1])\n",
    "        \n",
    "        # Fully connected layer\n",
    "        self.lin3 = self.lin1  = nn.Linear(8*8*64, 8*8*64)\n",
    "        \n",
    "        # Layer 4\n",
    "        self.conv4 = nn.Conv2d(in_channels=64, out_channels=128, kernel_size= (kernel_sz[2],kernel_sz[2]) , padding=pad[2])\n",
    "        \n",
    "        # Fully connected layer\n",
    "        self.lin4 = self.lin1  = nn.Linear(4*4*128, 4*4*128)\n",
    "        \n",
    "        # Layer 5\n",
    "        self.conv5 = nn.Conv2d(in_channels=128, out_channels=128, kernel_size= (kernel_sz[3],kernel_sz[3]) , padding=pad[3])\n",
    "        \n",
    "        # Fully connected layer\n",
    "        self.lin5 = self.fct = nn.Linear(128, 2)\n",
    "\n",
    "    def forward(self, x):\n",
    "        # step 1 : conv layer + fully connected layer\n",
    "        x = self.pool1(F.relu(self.conv1(x)))\n",
    "        x = x.view(-1,32*32*16)\n",
    "        x = F.relu(self.lin1())\n",
    "        x = x.\n",
    "\n",
    "        x = F.softmax(x,dim=-1)\n",
    "        return x"
   ]
  },
  {
   "cell_type": "code",
   "execution_count": 28,
   "metadata": {},
   "outputs": [
    {
     "name": "stdout",
     "output_type": "stream",
     "text": [
      "tensor([[2., 2., 2., 2., 2.],\n",
      "        [3., 3., 3., 3., 3.],\n",
      "        [4., 4., 4., 4., 4.],\n",
      "        [5., 5., 5., 5., 5.],\n",
      "        [6., 6., 6., 6., 6.]])\n",
      "tensor([[[10., 10., 10., 10., 10.],\n",
      "         [15., 15., 15., 15., 15.],\n",
      "         [20., 20., 20., 20., 20.],\n",
      "         [25., 25., 25., 25., 25.],\n",
      "         [30., 30., 30., 30., 30.]],\n",
      "\n",
      "        [[10., 10., 10., 10., 10.],\n",
      "         [15., 15., 15., 15., 15.],\n",
      "         [20., 20., 20., 20., 20.],\n",
      "         [25., 25., 25., 25., 25.],\n",
      "         [30., 30., 30., 30., 30.]],\n",
      "\n",
      "        [[10., 10., 10., 10., 10.],\n",
      "         [15., 15., 15., 15., 15.],\n",
      "         [20., 20., 20., 20., 20.],\n",
      "         [25., 25., 25., 25., 25.],\n",
      "         [30., 30., 30., 30., 30.]]])\n",
      "tensor([[10., 10., 10., 10., 10., 15., 15., 15., 15., 15., 20., 20., 20., 20.,\n",
      "         20., 25., 25., 25., 25., 25., 30., 30., 30., 30., 30.],\n",
      "        [10., 10., 10., 10., 10., 15., 15., 15., 15., 15., 20., 20., 20., 20.,\n",
      "         20., 25., 25., 25., 25., 25., 30., 30., 30., 30., 30.],\n",
      "        [10., 10., 10., 10., 10., 15., 15., 15., 15., 15., 20., 20., 20., 20.,\n",
      "         20., 25., 25., 25., 25., 25., 30., 30., 30., 30., 30.]])\n"
     ]
    }
   ],
   "source": [
    "with torch.no_grad() :\n",
    "    A = torch.ones(5,5) + torch.transpose(torch.tensor([[1,2,3,4,5]],dtype=torch.float),1,0)\n",
    "    xx = torch.ones(3,5,5)\n",
    "    print(A)\n",
    "    xx = torch.matmul(A, xx) \n",
    "    print( xx )\n",
    "    xx = xx.view(-1,5*5)\n",
    "    print(xx)\n",
    "    "
   ]
  },
  {
   "cell_type": "code",
   "execution_count": null,
   "metadata": {},
   "outputs": [],
   "source": []
  }
 ],
 "metadata": {
  "kernelspec": {
   "display_name": "Python 3",
   "language": "python",
   "name": "python3"
  },
  "language_info": {
   "codemirror_mode": {
    "name": "ipython",
    "version": 3
   },
   "file_extension": ".py",
   "mimetype": "text/x-python",
   "name": "python",
   "nbconvert_exporter": "python",
   "pygments_lexer": "ipython3",
   "version": "3.6.5"
  }
 },
 "nbformat": 4,
 "nbformat_minor": 2
}
