{
 "cells": [
  {
   "cell_type": "code",
   "execution_count": 2,
   "metadata": {},
   "outputs": [],
   "source": [
    "import torch\n",
    "import torchvision\n",
    "import torchvision.transforms as transforms # \n",
    "import torchvision.datasets.mnist as mnist  # to import data\n",
    "\n",
    "# we use torch.cuda.Event(enable_timing=True) to measure time\n",
    "# from timeit import default_timer as timer\n",
    "# import time\n",
    "\n",
    "import torch.optim as optim\n",
    "import torch.nn as nn\n",
    "import torch.nn.functional as F\n",
    "\n",
    "import collections           # for ordered_dictionnary\n",
    "import torch.nn.init as init # to initialize model\n",
    "\n",
    "import copy                  # for copy.deepcopy( ... )\n",
    "\n",
    "import matplotlib.pyplot as plt\n",
    "import numpy as np\n",
    "\n",
    "from __future__ import print_function, division\n",
    "import os\n",
    "from PIL import Image\n",
    "import torch\n",
    "import pandas as pd\n",
    "from skimage import io, transform\n",
    "import numpy as np\n",
    "import matplotlib.pyplot as plt\n",
    "from torch.utils.data import Dataset, DataLoader\n",
    "from torchvision import transforms, utils\n",
    "\n",
    "import collections\n",
    "import torch.nn.init as init"
   ]
  },
  {
   "cell_type": "code",
   "execution_count": 7,
   "metadata": {},
   "outputs": [],
   "source": [
    "total_nb_of_sample = 9999 # total number of sample per class, this shouldn't be hardcoded\n",
    "class labeledDataSet(torch.utils.data.Dataset):\n",
    "\n",
    "    def __init__(self, label, idx_min , idx_max , root_dir ):\n",
    "        \"\"\"\n",
    "        Args:\n",
    "            label is either \"Cat\" or \"Dog\"\n",
    "            load in the dataset picture no. idx_min to idx_max included\n",
    "            root_dir(string): directory with all images with the same label\n",
    "        \"\"\"\n",
    "        # super(labeledDataSet, self).__init__()\n",
    "        dic = {\"Cat\" : int(1) , \"Dog\" : int(0)}\n",
    "        \n",
    "        if dic.get(label , \"not found\" ) == \"not found\" :\n",
    "            raise ValueError(\"label must either be Cat or Dog\")\n",
    "            \n",
    "        if idx_max > total_nb_of_sample or idx_min < 0 :\n",
    "            raise ValueError(\"min, max index error\")\n",
    "            \n",
    "        self.label_name = label\n",
    "        self.idx_min = idx_min\n",
    "        self.idx_max = idx_max\n",
    "        self.label = dic[label]\n",
    "        self.root_dir = root_dir\n",
    "        self.load_data()\n",
    "    \n",
    "    def load_data(self) :\n",
    "        size = self.__len__()\n",
    "        \n",
    "        self.data_tensor = torch.empty(size,3,64,64,dtype=torch.float)\n",
    "        self.target_tensor = torch.ones(size,dtype=torch.long) * self.label\n",
    "        \n",
    "        for i,j in enumerate(range( self.idx_min , self.idx_max , 1 ),0) :\n",
    "            img_path = self.root_dir +  \"/{index}.{Label}.jpg\".format(index=(j),Label=self.label_name)\n",
    "            # image = io.imread(img_name)\n",
    "            # print( i , \" : \" , io.imread(img_name).shape )\n",
    "            # img = io.imread(img_name)\n",
    "            # print( img_path )\n",
    "            img = Image.open( img_path ).convert('RGB')\n",
    "            \"\"\"\n",
    "            NOTE : There is at least one grey-scale picture of Einstein, manually remove it ?\n",
    "            the greyscale (1 channel) images have to be converted to 3 channels tensors\n",
    "            \"\"\"   \n",
    "            image = torch.from_numpy( np.transpose( img , (-1,-3,-2) ) )\n",
    "            self.data_tensor[i,:,:,:] = image\n",
    "        \n",
    "    def __len__(self):\n",
    "        # return len(self.name_frame)\n",
    "        return (self.idx_max - self.idx_min + 1)\n",
    "\n",
    "    def __getitem__(self, idx):\n",
    "        return self.data_tensor[idx], self.target_tensor[idx]\n"
   ]
  },
  {
   "cell_type": "markdown",
   "metadata": {},
   "source": [
    "Setting the directory of the pictures"
   ]
  },
  {
   "cell_type": "code",
   "execution_count": 8,
   "metadata": {},
   "outputs": [],
   "source": [
    "dog_dir = \"./data_catdogs/trainset/Dog\"\n",
    "cat_dir = \"./data_catdogs/trainset/Cat\"\n",
    "\n",
    "# picture no 1             to (idx_sep)            belong to the training dataset\n",
    "# picture no (idx_sep + 1) to (total_nb_of_sample) belong to the validation dataset\n",
    "idx_sep = 8000\n",
    "\n",
    "trainDogSet = labeledDataSet( \"Dog\", 1 , idx_sep , root_dir = dog_dir )\n",
    "trainCatSet = labeledDataSet( \"Cat\", 1 , idx_sep , root_dir = cat_dir )\n",
    "\n",
    "testsDogSet = labeledDataSet( \"Dog\", idx_sep + 1 , total_nb_of_sample , root_dir = dog_dir )\n",
    "testsCatSet = labeledDataSet( \"Cat\", idx_sep + 1 , total_nb_of_sample , root_dir = cat_dir )"
   ]
  },
  {
   "cell_type": "code",
   "execution_count": 9,
   "metadata": {},
   "outputs": [],
   "source": [
    "trainset = torch.utils.data.ConcatDataset( [ trainDogSet , trainCatSet ] )\n",
    "testsset = torch.utils.data.ConcatDataset( [ testsDogSet , testsCatSet ] )"
   ]
  },
  {
   "cell_type": "code",
   "execution_count": 10,
   "metadata": {},
   "outputs": [
    {
     "name": "stdout",
     "output_type": "stream",
     "text": [
      "training dataset size =  16000\n",
      "testing  dataset size =  3998\n",
      "None\n",
      "img size =  torch.Size([3, 64, 64]) label size =  torch.Size([])\n"
     ]
    }
   ],
   "source": [
    "testing_dataset_size  = testsCatSet.__len__() + testsDogSet.__len__()\n",
    "training_dataset_size = trainCatSet.__len__() + trainDogSet.__len__()\n",
    "\n",
    "print( \"training dataset size = \" , training_dataset_size ) \n",
    "print( \"testing  dataset size = \" , testing_dataset_size ) \n",
    "print( trainDogSet.__doc__ ) \n",
    "img, label =  trainDogSet.__getitem__(1)\n",
    "print( \"img size = \" , img.size() , \"label size = \" , label.size() )"
   ]
  },
  {
   "cell_type": "markdown",
   "metadata": {},
   "source": [
    "Display some samples"
   ]
  },
  {
   "cell_type": "code",
   "execution_count": 11,
   "metadata": {},
   "outputs": [
    {
     "data": {
      "image/png": "[encoded data removed]",
      "text/plain": [
       "<Figure size 432x288 with 1 Axes>"
      ]
     },
     "metadata": {
      "needs_background": "light"
     },
     "output_type": "display_data"
    },
    {
     "name": "stdout",
     "output_type": "stream",
     "text": [
      "    1     0     1     0     0     0     0     1\n"
     ]
    }
   ],
   "source": [
    "nb_sample = 8\n",
    "\n",
    "trainloader = torch.utils.data.DataLoader(trainset , batch_size = nb_sample,  shuffle=True , num_workers=0)\n",
    "testsloader  = torch.utils.data.DataLoader(testsset , batch_size = nb_sample, shuffle=True , num_workers=0)\n",
    "\n",
    "# functions to show an image\n",
    "\n",
    "def imshow(img):\n",
    "    npimg = img.numpy() / 255\n",
    "    plt.imshow(np.transpose(npimg, (1, 2, 0)))\n",
    "    plt.show()\n",
    "\n",
    "# get some random training images\n",
    "dataiter = iter( testsloader )\n",
    "images, labels = dataiter.next()\n",
    "\n",
    "# show images\n",
    "imshow(torchvision.utils.make_grid(images))\n",
    "# print labels\n",
    "print(' '.join('%5s' % labels[j].item() for j in range(nb_sample)))"
   ]
  },
  {
   "cell_type": "markdown",
   "metadata": {},
   "source": [
    "set the device"
   ]
  },
  {
   "cell_type": "code",
   "execution_count": 12,
   "metadata": {},
   "outputs": [
    {
     "name": "stdout",
     "output_type": "stream",
     "text": [
      "cuda:0\n"
     ]
    }
   ],
   "source": [
    "device = torch.device(\"cuda:0\" if torch.cuda.is_available() else \"cpu\")\n",
    "print(device)"
   ]
  },
  {
   "cell_type": "markdown",
   "metadata": {},
   "source": [
    "## The model \n",
    "architecture taken from : https://github.com/MaximumEntropy/welcome_tutorials/tree/pytorch/pytorch"
   ]
  },
  {
   "cell_type": "code",
   "execution_count": 13,
   "metadata": {},
   "outputs": [],
   "source": [
    "class Classifier(nn.Module):\n",
    "    \"\"\"Convnet Classifier\"\"\"\n",
    "    def __init__(self, kernel_sz = 3 ):\n",
    "        \n",
    "        if kernel_sz % 2 == 0 :\n",
    "            raise ValueError(\"kernel size must be odd\")\n",
    "        pad = kernel_sz // 2 \n",
    "        \n",
    "        super(Classifier, self).__init__()\n",
    "        self.conv = nn.Sequential(\n",
    "            # Layer 1\n",
    "            nn.Conv2d(in_channels=3, out_channels=16, kernel_size=( kernel_sz , kernel_sz ), padding=pad ),\n",
    "            # nn.Dropout(p=0.5),\n",
    "            nn.ReLU(),\n",
    "            nn.MaxPool2d(kernel_size=(2, 2), stride=2),\n",
    "            \n",
    "            # Layer 2\n",
    "            nn.Conv2d(in_channels=16, out_channels=32, kernel_size=( kernel_sz , kernel_sz), padding=pad),\n",
    "            # nn.Dropout(p=0.5),\n",
    "            nn.ReLU(),\n",
    "            nn.MaxPool2d(kernel_size=(2, 2), stride=2),\n",
    "            \n",
    "            # Layer 3\n",
    "            nn.Conv2d(in_channels=32, out_channels=64, kernel_size=( kernel_sz , kernel_sz), padding=pad),\n",
    "            # nn.Dropout(p=0.5),\n",
    "            nn.ReLU(),\n",
    "            nn.MaxPool2d(kernel_size=(2, 2), stride=2),\n",
    "            \n",
    "            # Layer 4\n",
    "            nn.Conv2d(in_channels=64, out_channels=128, kernel_size=(kernel_sz , kernel_sz), padding=pad),\n",
    "            # nn.Dropout(p=0.5),\n",
    "            nn.ReLU(),\n",
    "            nn.MaxPool2d(kernel_size=(2, 2), stride=2)\n",
    "        )\n",
    "        # \n",
    "        self.fct = nn.Linear(4*4*128, 1)\n",
    "\n",
    "    def forward(self, x):\n",
    "        x = self.conv(x)\n",
    "        x = x.view(-1, 4*4*128)\n",
    "        x = torch.sigmoid(self.fct(x))\n",
    "        # x = self.fct(x)\n",
    "        # x = F.softmax(self.fct(x),dim=-1)\n",
    "        return x"
   ]
  },
  {
   "cell_type": "markdown",
   "metadata": {},
   "source": [
    "Print the number of parameters in each models and display the computation "
   ]
  },
  {
   "cell_type": "code",
   "execution_count": 14,
   "metadata": {},
   "outputs": [
    {
     "name": "stdout",
     "output_type": "stream",
     "text": [
      "number of params =  877089  =   \n",
      " (conv.0.weight)          16*3*9*9\n",
      " (conv.0.bias)          + 16\n",
      " (conv.3.weight)        + 32*16*9*9\n",
      " (conv.3.bias)          + 32\n",
      " (conv.6.weight)        + 64*32*9*9\n",
      " (conv.6.bias)          + 64\n",
      " (conv.9.weight)        + 128*64*9*9\n",
      " (conv.9.bias)          + 128\n",
      " (fct.weight)           + 1*2048\n",
      " (fct.bias)             + 1\n"
     ]
    }
   ],
   "source": [
    "def number_of_params( net ) :\n",
    "    nb_param  = 0\n",
    "    param_lst = \" \"\n",
    "    for i, (key, value) in enumerate( net.state_dict().items() ) :\n",
    "        \n",
    "        if i == 0 :\n",
    "            param_lst = param_lst + \"\\n ({:<20}    \".format( key + \")\" )\n",
    "        else :\n",
    "            param_lst = param_lst + \"\\n ({:<20}  + \".format( key + \")\" )\n",
    "            \n",
    "            \n",
    "        nb_param_tmp = 1\n",
    "        \n",
    "        for j , x in enumerate(value.size()) :\n",
    "            if j == 0 :\n",
    "                param_lst = param_lst + \"{xx}\".format( xx = x ) \n",
    "            else :\n",
    "                param_lst = param_lst + \"*{xx}\".format( xx = x ) \n",
    "                               \n",
    "            nb_param_tmp = nb_param_tmp * x\n",
    "                   \n",
    "        nb_param = nb_param + nb_param_tmp\n",
    "        \n",
    "    print( \"number of params = \" , nb_param , \" = \", param_lst  )\n",
    "\n",
    "mytestnet = Classifier( kernel_sz=9 )\n",
    "number_of_params( mytestnet )\n",
    "del mytestnet"
   ]
  },
  {
   "cell_type": "markdown",
   "metadata": {},
   "source": [
    "init method"
   ]
  },
  {
   "cell_type": "code",
   "execution_count": 15,
   "metadata": {},
   "outputs": [],
   "source": [
    "def glorot_init ( layer ) :\n",
    "    \"\"\"\n",
    "    Weiths are generated from U[-d,d] where d = sqrt(6/(fan_in + fan_out)), biases are set to zero\n",
    "    \"\"\"\n",
    "    if type(layer) == nn.Linear or type(layer) == nn.Conv2d :\n",
    "        init.xavier_uniform_( layer.weight , gain=1 )\n",
    "        layer.bias.data.fill_(0.0)"
   ]
  },
  {
   "cell_type": "code",
   "execution_count": null,
   "metadata": {},
   "outputs": [],
   "source": [
    "if True :\n",
    "    del cudanet"
   ]
  },
  {
   "cell_type": "code",
   "execution_count": 16,
   "metadata": {},
   "outputs": [
    {
     "data": {
      "text/plain": [
       "Classifier(\n",
       "  (conv): Sequential(\n",
       "    (0): Conv2d(3, 16, kernel_size=(9, 9), stride=(1, 1), padding=(4, 4))\n",
       "    (1): ReLU()\n",
       "    (2): MaxPool2d(kernel_size=(2, 2), stride=2, padding=0, dilation=1, ceil_mode=False)\n",
       "    (3): Conv2d(16, 32, kernel_size=(9, 9), stride=(1, 1), padding=(4, 4))\n",
       "    (4): ReLU()\n",
       "    (5): MaxPool2d(kernel_size=(2, 2), stride=2, padding=0, dilation=1, ceil_mode=False)\n",
       "    (6): Conv2d(32, 64, kernel_size=(9, 9), stride=(1, 1), padding=(4, 4))\n",
       "    (7): ReLU()\n",
       "    (8): MaxPool2d(kernel_size=(2, 2), stride=2, padding=0, dilation=1, ceil_mode=False)\n",
       "    (9): Conv2d(64, 128, kernel_size=(9, 9), stride=(1, 1), padding=(4, 4))\n",
       "    (10): ReLU()\n",
       "    (11): MaxPool2d(kernel_size=(2, 2), stride=2, padding=0, dilation=1, ceil_mode=False)\n",
       "  )\n",
       "  (fct): Linear(in_features=2048, out_features=1, bias=True)\n",
       ")"
      ]
     },
     "execution_count": 16,
     "metadata": {},
     "output_type": "execute_result"
    }
   ],
   "source": [
    "cudanet = Classifier( kernel_sz = 9 )\n",
    "cudanet.apply( glorot_init )\n",
    "cudanet.to(device)"
   ]
  },
  {
   "cell_type": "code",
   "execution_count": 18,
   "metadata": {},
   "outputs": [],
   "source": [
    "criterion = nn.BCELoss() # Binary Cross Entropy \n",
    "optimizer = optim.SGD(cudanet.parameters(), lr=0.0001, momentum=0.0, weight_decay=0)\n",
    "nb_epoch  = 100"
   ]
  },
  {
   "cell_type": "code",
   "execution_count": 19,
   "metadata": {},
   "outputs": [],
   "source": [
    "if False :\n",
    "    print( cudanet( torch.ones(1,3,64,64).to(device) ) )\n",
    "    print( cudanet( torch.ones(1,3,64,64).to(device) ).dtype )\n",
    "\n",
    "    with torch.no_grad() :\n",
    "        for i, data in enumerate(trainloader, 0):\n",
    "            # get the inputs\n",
    "            inputs, labels = data\n",
    "            labels = labels.float()\n",
    "            inputs, labels = inputs.to(device), labels.to(device)\n",
    "\n",
    "            # zero the parameter gradients\n",
    "            optimizer.zero_grad()\n",
    "\n",
    "            # forward + backward + optimize\n",
    "            outputs = cudanet(inputs).squeeze()\n",
    "            print( outputs.size() , labels.size() )\n",
    "            print( outputs )\n",
    "            loss = criterion(outputs, labels)\n",
    "            print( loss )\n",
    "\n",
    "            break"
   ]
  },
  {
   "cell_type": "markdown",
   "metadata": {},
   "source": [
    "## Training the model  \n",
    "\n",
    "Note : 30 epoch with lr=0.0001 are not enough, add more epoch, larger lr could be an issue for fine tuning the model"
   ]
  },
  {
   "cell_type": "code",
   "execution_count": 20,
   "metadata": {},
   "outputs": [
    {
     "name": "stdout",
     "output_type": "stream",
     "text": [
      "epoch = 1, loss = 0.02276598\n",
      "epoch = 2, loss = 0.00169804\n",
      "epoch = 3, loss = 0.00146688\n",
      "epoch = 4, loss = 0.00139074\n",
      "epoch = 5, loss = 0.00134923\n",
      "epoch = 6, loss = 0.00131419\n",
      "epoch = 7, loss = 0.00129435\n",
      "epoch = 8, loss = 0.00129268\n",
      "epoch = 9, loss = 0.00124875\n",
      "epoch = 10, loss = 0.00123936\n",
      "epoch = 11, loss = 0.00124059\n",
      "epoch = 12, loss = 0.00122266\n",
      "epoch = 13, loss = 0.00120777\n",
      "epoch = 14, loss = 0.00120277\n",
      "epoch = 15, loss = 0.00120237\n",
      "epoch = 16, loss = 0.00119621\n",
      "epoch = 17, loss = 0.00118058\n",
      "epoch = 18, loss = 0.00118388\n",
      "epoch = 19, loss = 0.00116021\n",
      "epoch = 20, loss = 0.00116660\n",
      "epoch = 21, loss = 0.00115152\n",
      "epoch = 22, loss = 0.00114971\n",
      "epoch = 23, loss = 0.00114193\n",
      "epoch = 24, loss = 0.00113833\n",
      "epoch = 25, loss = 0.00113210\n",
      "epoch = 26, loss = 0.00112525\n",
      "epoch = 27, loss = 0.00112184\n",
      "epoch = 28, loss = 0.00111765\n",
      "epoch = 29, loss = 0.00112325\n",
      "epoch = 30, loss = 0.00111372\n",
      "epoch = 31, loss = 0.00109616\n",
      "epoch = 32, loss = 0.00109340\n",
      "epoch = 33, loss = 0.00109817\n",
      "epoch = 34, loss = 0.00107592\n",
      "epoch = 35, loss = 0.00107722\n",
      "epoch = 36, loss = 0.00107061\n",
      "epoch = 37, loss = 0.00106755\n",
      "epoch = 38, loss = 0.00106013\n",
      "epoch = 39, loss = 0.00106610\n",
      "epoch = 40, loss = 0.00105899\n",
      "epoch = 41, loss = 0.00105057\n",
      "epoch = 42, loss = 0.00104855\n",
      "epoch = 43, loss = 0.00104511\n",
      "epoch = 44, loss = 0.00103842\n",
      "epoch = 45, loss = 0.00102985\n",
      "epoch = 46, loss = 0.00102920\n",
      "epoch = 47, loss = 0.00102972\n",
      "epoch = 48, loss = 0.00101591\n",
      "epoch = 49, loss = 0.00101256\n",
      "epoch = 50, loss = 0.00101871\n",
      "epoch = 51, loss = 0.00100873\n",
      "epoch = 52, loss = 0.00100731\n",
      "epoch = 53, loss = 0.00101065\n",
      "epoch = 54, loss = 0.00099936\n",
      "epoch = 55, loss = 0.00099159\n",
      "epoch = 56, loss = 0.00099140\n",
      "epoch = 57, loss = 0.00099102\n",
      "epoch = 58, loss = 0.00099166\n",
      "epoch = 59, loss = 0.00097251\n",
      "epoch = 60, loss = 0.00098763\n",
      "epoch = 61, loss = 0.00098604\n",
      "epoch = 62, loss = 0.00097591\n",
      "epoch = 63, loss = 0.00097284\n",
      "epoch = 64, loss = 0.00096949\n",
      "epoch = 65, loss = 0.00095204\n",
      "epoch = 66, loss = 0.00096720\n",
      "epoch = 67, loss = 0.00094512\n",
      "epoch = 68, loss = 0.00096118\n",
      "epoch = 69, loss = 0.00096499\n",
      "epoch = 70, loss = 0.00093962\n",
      "epoch = 71, loss = 0.00094128\n",
      "epoch = 72, loss = 0.00094418\n",
      "epoch = 73, loss = 0.00094998\n",
      "epoch = 74, loss = 0.00092987\n",
      "epoch = 75, loss = 0.00091944\n",
      "epoch = 76, loss = 0.00092621\n",
      "epoch = 77, loss = 0.00092280\n",
      "epoch = 78, loss = 0.00091721\n",
      "epoch = 79, loss = 0.00091740\n",
      "epoch = 80, loss = 0.00093986\n",
      "epoch = 81, loss = 0.00090857\n",
      "epoch = 82, loss = 0.00091636\n",
      "epoch = 83, loss = 0.00090333\n",
      "epoch = 84, loss = 0.00090880\n",
      "epoch = 85, loss = 0.00091117\n",
      "epoch = 86, loss = 0.00087983\n",
      "epoch = 87, loss = 0.00088708\n",
      "epoch = 88, loss = 0.00088649\n",
      "epoch = 89, loss = 0.00087787\n",
      "epoch = 90, loss = 0.00086857\n",
      "epoch = 91, loss = 0.00088398\n",
      "epoch = 92, loss = 0.00088204\n",
      "epoch = 93, loss = 0.00087759\n",
      "epoch = 94, loss = 0.00086272\n",
      "epoch = 95, loss = 0.00086261\n",
      "epoch = 96, loss = 0.00087041\n",
      "epoch = 97, loss = 0.00087096\n",
      "epoch = 98, loss = 0.00085535\n",
      "epoch = 99, loss = 0.00084688\n",
      "epoch = 100, loss = 0.00086321\n",
      "Finished Training\n",
      "time required =  1223.528875  s \n"
     ]
    }
   ],
   "source": [
    "trainloader = torch.utils.data.DataLoader(trainset, batch_size=4*64,shuffle=True, num_workers=0)\n",
    "state_dict_list = list()\n",
    "\n",
    "torch.cuda.synchronize()\n",
    "\n",
    "start = torch.cuda.Event(enable_timing=True)\n",
    "end   = torch.cuda.Event(enable_timing=True)\n",
    "start.record()\n",
    "\n",
    "for epoch in range( nb_epoch ):  # loop over the dataset multiple times \n",
    "    \n",
    "    if epoch == 30 :\n",
    "        optim.SGD(cudanet.parameters(), lr=0.00001, momentum=0.0, weight_decay=0)\n",
    "        \n",
    "    if epoch == 60 :\n",
    "        optim.SGD(cudanet.parameters(), lr=0.000001, momentum=0.0, weight_decay=0)\n",
    "        \n",
    "    running_loss = 0.0\n",
    "    for i, data in enumerate(trainloader, 0):\n",
    "        # get the inputs\n",
    "        inputs, labels = data\n",
    "        labels = labels.float()\n",
    "        inputs, labels = inputs.to(device), labels.to(device)\n",
    "        \n",
    "        # zero the parameter gradients\n",
    "        optimizer.zero_grad()\n",
    "\n",
    "        # forward + backward + optimize\n",
    "        outputs = cudanet(inputs).squeeze()\n",
    "        # if i == 0 : print( outputs )\n",
    "        loss = criterion(outputs, labels)\n",
    "        loss.backward()\n",
    "        optimizer.step()\n",
    "\n",
    "        # print statistics\n",
    "        running_loss += loss.item()\n",
    "    else : # print every epoch\n",
    "        print('epoch = %d, loss = %.8f' % (epoch + 1, running_loss / (i*8*64))) # nb of sample per mini-batch\n",
    "        running_loss = 0.0\n",
    "        torch.cuda.synchronize()\n",
    "        tmp_state_dict = {}\n",
    "        for k, v in cudanet.state_dict().items():\n",
    "            tmp_state_dict[k] = v.cpu()\n",
    "        state_dict_list.append( tmp_state_dict )\n",
    "        torch.cuda.synchronize()\n",
    "        \n",
    "else : \n",
    "    print('Finished Training')\n",
    "    \n",
    "end.record()\n",
    "torch.cuda.synchronize()\n",
    "print( \"time required = \" , start.elapsed_time(end)*0.001 , \" s \")"
   ]
  },
  {
   "cell_type": "markdown",
   "metadata": {},
   "source": [
    "#### test accuracy of the current state on validation dataset"
   ]
  },
  {
   "cell_type": "code",
   "execution_count": null,
   "metadata": {},
   "outputs": [
    {
     "name": "stdout",
     "output_type": "stream",
     "text": [
      "Accuracy of the network on the 3998 test images: 69.98 %\n"
     ]
    }
   ],
   "source": [
    "testsloader = torch.utils.data.DataLoader(testsset, batch_size=8*64,shuffle=False, num_workers=0)\n",
    "correct = torch.tensor([0])\n",
    "total = torch.tensor([0])\n",
    "\n",
    "correct, total = correct.to(device) , total.to(device) \n",
    "with torch.no_grad():\n",
    "    for data in testsloader:\n",
    "        images, labels = data\n",
    "        images, labels = images.to(device), labels.to(device)\n",
    "        outputs = cudanet(images).squeeze()\n",
    "        predicted = torch.where(\n",
    "                        outputs > 0.5, torch.ones_like(labels, device=device) , torch.zeros_like(labels, device=device) \n",
    "                    )\n",
    "        total += labels.size(0)\n",
    "        correct += (predicted == labels).sum()\n",
    "\n",
    "print('Accuracy of the network on the' , testing_dataset_size , 'test images: %.2f %%' \n",
    "          % ( (100 * correct.double()) / total.double()  )\n",
    "     ) "
   ]
  },
  {
   "cell_type": "markdown",
   "metadata": {},
   "source": [
    "#### accuracy across epoch"
   ]
  },
  {
   "cell_type": "code",
   "execution_count": null,
   "metadata": {},
   "outputs": [
    {
     "name": "stdout",
     "output_type": "stream",
     "text": [
      "epoch   1 : Accuracy of the network on the test images: 50.10 % , training images 50.29 % \n",
      "epoch   2 : Accuracy of the network on the test images: 56.48 % , training images 56.44 % \n",
      "epoch   3 : Accuracy of the network on the test images: 58.58 % , training images 58.75 % \n",
      "epoch   4 : Accuracy of the network on the test images: 60.18 % , training images 59.72 % \n",
      "epoch   5 : Accuracy of the network on the test images: 60.78 % , training images 62.38 % \n",
      "epoch   6 : Accuracy of the network on the test images: 62.73 % , training images 63.39 % \n",
      "epoch   7 : Accuracy of the network on the test images: 63.18 % , training images 64.10 % \n",
      "epoch   8 : Accuracy of the network on the test images: 62.63 % , training images 64.11 % \n",
      "epoch   9 : Accuracy of the network on the test images: 62.66 % , training images 64.16 % \n",
      "epoch  10 : Accuracy of the network on the test images: 64.53 % , training images 66.29 % \n",
      "epoch  11 : Accuracy of the network on the test images: 65.06 % , training images 66.31 % \n",
      "epoch  12 : Accuracy of the network on the test images: 65.13 % , training images 67.15 % \n",
      "epoch  13 : Accuracy of the network on the test images: 64.38 % , training images 65.57 % \n",
      "epoch  14 : Accuracy of the network on the test images: 65.83 % , training images 67.56 % \n",
      "epoch  15 : Accuracy of the network on the test images: 65.68 % , training images 68.44 % \n",
      "epoch  16 : Accuracy of the network on the test images: 63.08 % , training images 64.49 % \n",
      "epoch  17 : Accuracy of the network on the test images: 62.98 % , training images 64.49 % \n",
      "epoch  18 : Accuracy of the network on the test images: 64.46 % , training images 66.61 % \n",
      "epoch  19 : Accuracy of the network on the test images: 64.66 % , training images 66.75 % \n",
      "epoch  20 : Accuracy of the network on the test images: 66.71 % , training images 70.14 % \n",
      "epoch  21 : Accuracy of the network on the test images: 67.08 % , training images 70.37 % \n",
      "epoch  22 : Accuracy of the network on the test images: 66.06 % , training images 68.20 % \n",
      "epoch  23 : Accuracy of the network on the test images: 67.23 % , training images 70.55 % \n",
      "epoch  24 : Accuracy of the network on the test images: 67.16 % , training images 70.81 % \n",
      "epoch  25 : Accuracy of the network on the test images: 67.53 % , training images 71.33 % \n",
      "epoch  26 : Accuracy of the network on the test images: 65.41 % , training images 68.50 % \n",
      "epoch  27 : Accuracy of the network on the test images: 67.11 % , training images 70.94 % \n",
      "epoch  28 : Accuracy of the network on the test images: 67.86 % , training images 71.88 % \n",
      "epoch  29 : Accuracy of the network on the test images: 66.93 % , training images 71.11 % \n",
      "epoch  30 : Accuracy of the network on the test images: 66.03 % , training images 68.69 % \n",
      "epoch  31 : Accuracy of the network on the test images: 67.58 % , training images 72.60 % \n",
      "epoch  32 : Accuracy of the network on the test images: 67.71 % , training images 72.21 % \n",
      "epoch  33 : Accuracy of the network on the test images: 68.48 % , training images 72.79 % \n",
      "epoch  34 : Accuracy of the network on the test images: 68.43 % , training images 73.48 % \n",
      "epoch  35 : Accuracy of the network on the test images: 67.13 % , training images 71.64 % \n",
      "epoch  36 : Accuracy of the network on the test images: 66.71 % , training images 70.33 % \n",
      "epoch  37 : Accuracy of the network on the test images: 67.26 % , training images 71.17 % \n",
      "epoch  38 : Accuracy of the network on the test images: 68.36 % , training images 73.48 % \n",
      "epoch  39 : Accuracy of the network on the test images: 68.56 % , training images 74.49 % \n",
      "epoch  40 : Accuracy of the network on the test images: 66.81 % , training images 70.99 % \n",
      "epoch  41 : Accuracy of the network on the test images: 68.48 % , training images 74.76 % \n",
      "epoch  42 : Accuracy of the network on the test images: 68.33 % , training images 73.99 % \n",
      "epoch  43 : Accuracy of the network on the test images: 66.68 % , training images 70.81 % \n",
      "epoch  44 : Accuracy of the network on the test images: 66.46 % , training images 70.34 % \n",
      "epoch  45 : Accuracy of the network on the test images: 68.31 % , training images 74.33 % \n",
      "epoch  46 : Accuracy of the network on the test images: 68.01 % , training images 73.69 % \n",
      "epoch  47 : Accuracy of the network on the test images: 65.93 % , training images 70.69 % \n",
      "epoch  48 : Accuracy of the network on the test images: 69.36 % , training images 75.52 % \n",
      "epoch  49 : Accuracy of the network on the test images: 65.88 % , training images 70.39 % \n",
      "epoch  50 : Accuracy of the network on the test images: 69.51 % , training images 76.24 % \n",
      "epoch  51 : Accuracy of the network on the test images: 69.73 % , training images 76.29 % \n",
      "epoch  52 : Accuracy of the network on the test images: 68.03 % , training images 73.29 % \n",
      "epoch  53 : Accuracy of the network on the test images: 69.71 % , training images 76.27 % \n",
      "epoch  54 : Accuracy of the network on the test images: 70.39 % , training images 76.76 % \n",
      "epoch  55 : Accuracy of the network on the test images: 69.73 % , training images 76.85 % \n",
      "epoch  56 : Accuracy of the network on the test images: 69.21 % , training images 76.49 % \n",
      "epoch  57 : Accuracy of the network on the test images: 66.33 % , training images 71.48 % \n",
      "epoch  58 : Accuracy of the network on the test images: 69.03 % , training images 76.64 % \n",
      "epoch  59 : Accuracy of the network on the test images: 70.11 % , training images 77.49 % \n",
      "epoch  60 : Accuracy of the network on the test images: 69.81 % , training images 77.41 % \n",
      "epoch  61 : Accuracy of the network on the test images: 69.58 % , training images 77.04 % \n",
      "epoch  62 : Accuracy of the network on the test images: 69.98 % , training images 77.68 % \n",
      "epoch  63 : Accuracy of the network on the test images: 69.48 % , training images 76.93 % \n",
      "epoch  64 : Accuracy of the network on the test images: 70.51 % , training images 78.10 % \n",
      "epoch  65 : Accuracy of the network on the test images: 69.93 % , training images 78.00 % \n",
      "epoch  66 : Accuracy of the network on the test images: 70.09 % , training images 78.45 % \n",
      "epoch  67 : Accuracy of the network on the test images: 69.28 % , training images 77.14 % \n",
      "epoch  68 : Accuracy of the network on the test images: 70.34 % , training images 78.27 % \n",
      "epoch  69 : Accuracy of the network on the test images: 68.63 % , training images 75.49 % \n",
      "epoch  70 : Accuracy of the network on the test images: 69.86 % , training images 77.31 % \n",
      "epoch  71 : Accuracy of the network on the test images: 70.04 % , training images 78.22 % \n",
      "epoch  72 : Accuracy of the network on the test images: 65.71 % , training images 70.94 % \n",
      "epoch  73 : Accuracy of the network on the test images: 70.66 % , training images 79.04 % \n",
      "epoch  74 : Accuracy of the network on the test images: 70.94 % , training images 79.64 % \n",
      "epoch  75 : Accuracy of the network on the test images: 70.54 % , training images 79.47 % \n",
      "epoch  76 : Accuracy of the network on the test images: 68.13 % , training images 75.53 % \n",
      "epoch  77 : Accuracy of the network on the test images: 69.61 % , training images 78.21 % \n",
      "epoch  78 : Accuracy of the network on the test images: 70.51 % , training images 78.96 % \n",
      "epoch  79 : Accuracy of the network on the test images: 70.16 % , training images 78.77 % \n",
      "epoch  80 : Accuracy of the network on the test images: 69.21 % , training images 77.68 % \n",
      "epoch  81 : Accuracy of the network on the test images: 70.21 % , training images 79.26 % \n",
      "epoch  82 : Accuracy of the network on the test images: 70.91 % , training images 80.45 % \n",
      "epoch  83 : Accuracy of the network on the test images: 70.41 % , training images 80.14 % \n",
      "epoch  84 : Accuracy of the network on the test images: 68.26 % , training images 75.09 % \n",
      "epoch  85 : Accuracy of the network on the test images: 70.96 % , training images 80.54 % \n",
      "epoch  86 : Accuracy of the network on the test images: 70.96 % , training images 80.74 % \n",
      "epoch  87 : Accuracy of the network on the test images: 69.98 % , training images 79.38 % \n",
      "epoch  88 : Accuracy of the network on the test images: 69.66 % , training images 79.22 % \n",
      "epoch  89 : Accuracy of the network on the test images: 70.41 % , training images 79.84 % \n",
      "epoch  90 : Accuracy of the network on the test images: 69.76 % , training images 79.56 % \n",
      "epoch  91 : Accuracy of the network on the test images: 68.23 % , training images 76.36 % \n"
     ]
    },
    {
     "name": "stdout",
     "output_type": "stream",
     "text": [
      "epoch  92 : Accuracy of the network on the test images: 64.76 % , training images 70.21 % \n",
      "epoch  93 : Accuracy of the network on the test images: 71.01 % , training images 81.34 % \n",
      "epoch  94 : Accuracy of the network on the test images: 71.34 % , training images 81.76 % \n",
      "epoch  95 : Accuracy of the network on the test images: 68.71 % , training images 76.88 % \n",
      "epoch  96 : Accuracy of the network on the test images: 70.16 % , training images 79.74 % \n",
      "epoch  97 : Accuracy of the network on the test images: 71.56 % , training images 82.14 % \n",
      "epoch  98 : Accuracy of the network on the test images: 71.64 % , training images 82.25 % \n"
     ]
    }
   ],
   "source": [
    "trainloader = torch.utils.data.DataLoader(trainset , batch_size = 8*64 , shuffle=False , num_workers=0)\n",
    "testsloader = torch.utils.data.DataLoader(testsset , batch_size = 8*64, shuffle=False , num_workers=0)\n",
    "\n",
    "accuracy = torch.ones(nb_epoch,2, dtype=torch.float) * 100\n",
    "for epoch , tmp_state_dict in enumerate(state_dict_list,0) :\n",
    "    if epoch % 1 != 0 :\n",
    "        continue\n",
    "        \n",
    "    cudaTOCPUnet = copy.deepcopy( cudanet )\n",
    "    cudaTOCPUnet.load_state_dict( tmp_state_dict )\n",
    "    cuda_test_net = copy.deepcopy(cudaTOCPUnet).to(device)\n",
    "    \n",
    "    correct = torch.tensor([0,0])\n",
    "    total   = torch.tensor([0,0])\n",
    "    \n",
    "    correct, total = correct.to(device) , total.to(device) \n",
    "        \n",
    "    loader_list = [ testsloader , trainloader ]\n",
    "    with torch.no_grad():\n",
    "        for i, loader in enumerate(loader_list,0) :\n",
    "            for data in loader:\n",
    "                images, labels = data\n",
    "                images, labels = images.to(device), labels.to(device)\n",
    "                outputs = cuda_test_net(images).squeeze()\n",
    "                predicted = torch.where(\n",
    "                                outputs > 0.5, torch.ones_like(labels, device=device) , torch.zeros_like(labels, device=device) \n",
    "                            )\n",
    "                total[i] += labels.size(0)\n",
    "                correct[i] += (predicted == labels).sum()\n",
    "    \n",
    "    accuracy[epoch,:] = accuracy[epoch,:] * correct.type(torch.FloatTensor) / total.type(torch.FloatTensor)\n",
    "    \n",
    "    print('epoch %3d : Accuracy of the network on the test images: %.2f %% , training images %.2f %% ' \n",
    "              % ( epoch+1, accuracy[epoch,0] , accuracy[epoch,1] )\n",
    "         )"
   ]
  },
  {
   "cell_type": "markdown",
   "metadata": {},
   "source": [
    "### Plot accuracy"
   ]
  },
  {
   "cell_type": "code",
   "execution_count": null,
   "metadata": {},
   "outputs": [],
   "source": [
    "from matplotlib.pyplot import figure\n",
    "# import warnings\n",
    "# warnings.filterwarnings('ignore')\n",
    "\n",
    "# data to plot\n",
    "n_groups = nb_epoch\n",
    "accuracy_toplot = accuracy.numpy()\n",
    "\n",
    "tests_accuracy = accuracy_toplot[:,0]\n",
    "train_accuracy = accuracy_toplot[:,1]\n",
    "\n",
    "#\n",
    "plt.rcParams.update({'font.size': 16})\n",
    "plt.rcParams[\"figure.figsize\"] = (12 ,8)\n",
    "# create plot\n",
    "fig, ax = plt.subplots()\n",
    "index = np.arange(n_groups)\n",
    "bar_width = 0.3\n",
    "opacity = 0.8\n",
    " \n",
    "rects1 = plt.bar(index, tests_accuracy, bar_width,\n",
    "                 alpha=opacity,\n",
    "                 color='blue',\n",
    "                 label='Test set')\n",
    " \n",
    "rects2 = plt.bar(index + bar_width, train_accuracy, bar_width,\n",
    "                 alpha=opacity,\n",
    "                 color='r',\n",
    "                 label='Training set')\n",
    "\n",
    "eps = 3 \n",
    "top = min(int( np.ceil(accuracy_toplot.max() + eps)) , 100)\n",
    "bot = max(int(np.floor(accuracy_toplot.min() - eps)) , 0  )\n",
    "\n",
    "\n",
    "plt.ylim(bot, top)     # set the ylim to bottom, top\n",
    "plt.axhline(y=75,color=\"black\")\n",
    "\n",
    "plt.xlabel('Epoch')\n",
    "plt.ylabel('Accuracy')\n",
    "plt.title('Comparison between training set and test set accuracy \\nduring the training phase')\n",
    "plt.xticks(index + bar_width, range(1,n_groups,1) )\n",
    "plt.yticks( range(bot,top+1,1) )\n",
    "plt.legend()\n",
    "\n",
    "# plt.tight_layout()\n",
    "plt.show()"
   ]
  },
  {
   "cell_type": "markdown",
   "metadata": {},
   "source": [
    "# Misc"
   ]
  },
  {
   "cell_type": "markdown",
   "metadata": {},
   "source": [
    "#### print some test sample that the net misclassifies"
   ]
  },
  {
   "cell_type": "code",
   "execution_count": 60,
   "metadata": {},
   "outputs": [
    {
     "data": {
      "image/png": "[encoded data removed]",
      "text/plain": [
       "<Figure size 864x576 with 1 Axes>"
      ]
     },
     "metadata": {
      "needs_background": "light"
     },
     "output_type": "display_data"
    },
    {
     "name": "stdout",
     "output_type": "stream",
     "text": [
      "Probabilities goes from : 0 -> this is a dog for sure , to 1 -> cat for sure\n",
      "this should be          :   0   , 0   , 1   , 1   , 1   , 1   , 0   , 0   \n",
      "net associated prob     :   0.60, 0.85, 0.47, 0.25, 0.14, 0.41, 0.54, 0.76\n"
     ]
    }
   ],
   "source": [
    "testsloader = torch.utils.data.DataLoader(testsset , batch_size = 8*64, shuffle=True , num_workers=0)\n",
    "\n",
    "nb_of_error = torch.tensor([8])\n",
    "j = torch.tensor([0])\n",
    "errorimages  = torch.empty(8,3,64,64)\n",
    "errorlabels  = torch.empty(8)\n",
    "erroroutputs = torch.empty(8)\n",
    "for images, labels in testsloader :\n",
    "    images, labels = images.to(device), labels.to(device)\n",
    "    outputs = cuda_test_net(images).squeeze()\n",
    "    predicted = torch.where(\n",
    "                    outputs > 0.5, torch.ones_like(labels, device=device) , torch.zeros_like(labels, device=device) \n",
    "                    )\n",
    "    if not (predicted == labels).sum() == labels.size()[0] :\n",
    "        comparison = (predicted == labels)\n",
    "        for i,b in enumerate( comparison ) :\n",
    "            if b == 0 :\n",
    "                errorimages[j,:,:,:] = copy.deepcopy(images[i,:,:,:]).cpu()\n",
    "                errorlabels[j] = labels[i].clone().detach().requires_grad_(False).cpu()\n",
    "                erroroutputs[j] = outputs[i].clone().detach().requires_grad_(False).cpu()\n",
    "                j = j + 1\n",
    "                if j.item() >= nb_of_error.item() :\n",
    "                    break\n",
    "        else :\n",
    "            continue\n",
    "        break\n",
    "        \n",
    "if j.item() == 0 :\n",
    "    print( \"no error found\")\n",
    "else :\n",
    "    imshow( torchvision.utils.make_grid(errorimages) )\n",
    "    \n",
    "    print( \"Probabilities goes from : 0 -> this is a dog for sure , to 1 -> cat for sure\")\n",
    "    print( \"this should be          : \" , \",\".join( \" %-4d\" % nb.item() for nb in errorlabels ) ) \n",
    "    print( \"net associated prob     : \" , \",\".join( \"%5.2f\" % nb.item() for nb in erroroutputs ) ) "
   ]
  },
  {
   "cell_type": "markdown",
   "metadata": {},
   "source": [
    "### Save and load models"
   ]
  },
  {
   "cell_type": "markdown",
   "metadata": {},
   "source": [
    "#### Save the state_dict of the model for each epoch on a local directory"
   ]
  },
  {
   "cell_type": "code",
   "execution_count": 57,
   "metadata": {},
   "outputs": [
    {
     "name": "stdout",
     "output_type": "stream",
     "text": [
      "./save/dev1num3model_for_epoch1.pth\n",
      "./save/dev1num3model_for_epoch2.pth\n",
      "./save/dev1num3model_for_epoch3.pth\n",
      "./save/dev1num3model_for_epoch4.pth\n",
      "./save/dev1num3model_for_epoch5.pth\n",
      "./save/dev1num3model_for_epoch6.pth\n",
      "./save/dev1num3model_for_epoch7.pth\n",
      "./save/dev1num3model_for_epoch8.pth\n",
      "./save/dev1num3model_for_epoch9.pth\n",
      "./save/dev1num3model_for_epoch10.pth\n",
      "./save/dev1num3model_for_epoch11.pth\n",
      "./save/dev1num3model_for_epoch12.pth\n",
      "./save/dev1num3model_for_epoch13.pth\n",
      "./save/dev1num3model_for_epoch14.pth\n",
      "./save/dev1num3model_for_epoch15.pth\n",
      "./save/dev1num3model_for_epoch16.pth\n",
      "./save/dev1num3model_for_epoch17.pth\n",
      "./save/dev1num3model_for_epoch18.pth\n",
      "./save/dev1num3model_for_epoch19.pth\n",
      "./save/dev1num3model_for_epoch20.pth\n",
      "./save/dev1num3model_for_epoch21.pth\n",
      "./save/dev1num3model_for_epoch22.pth\n",
      "./save/dev1num3model_for_epoch23.pth\n",
      "./save/dev1num3model_for_epoch24.pth\n",
      "./save/dev1num3model_for_epoch25.pth\n",
      "./save/dev1num3model_for_epoch26.pth\n",
      "./save/dev1num3model_for_epoch27.pth\n",
      "./save/dev1num3model_for_epoch28.pth\n",
      "./save/dev1num3model_for_epoch29.pth\n",
      "./save/dev1num3model_for_epoch30.pth\n"
     ]
    }
   ],
   "source": [
    "local_path = \"./save\"\n",
    "for epoch , tmp_state_dict in enumerate(state_dict_list,1) :\n",
    "    saving_path = local_path + \"/dev1num3model_for_epoch{Epoch}.pth\".format( Epoch = epoch )\n",
    "    torch.save( tmp_state_dict , saving_path)\n",
    "    # print( saving_path )"
   ]
  },
  {
   "cell_type": "markdown",
   "metadata": {},
   "source": [
    "#### load from file and set the load the state_dict of the last epoch on a object\n",
    "the files have to be located in \"./save\" and named \"dev1num3model_for_epoch{j}.pth\" for j from ... to ..."
   ]
  },
  {
   "cell_type": "code",
   "execution_count": 59,
   "metadata": {},
   "outputs": [],
   "source": [
    "local_path = \"./save\"\n",
    "state_dict_list = list()\n",
    "\n",
    "from_idx = 1\n",
    "to_idx   = nb_epoch\n",
    "\n",
    "for epoch in range( from_idx  , to_idx + 1 , 1 ):\n",
    "    path = local_path + \"/dev1num3model_for_epoch{Epoch}.pth\".format( Epoch = epoch )\n",
    "    tmp_dict = torch.load(path)\n",
    "    state_dict_list.append(tmp_dict)\n",
    "    # print( path )\n",
    "else : \n",
    "    cudanet = Classifier( kernel_sz = 9 )\n",
    "    cudanet.load_state_dict(tmp_dict)\n",
    "    cudanet.to(device)\n",
    "    cudanet.eval()                     "
   ]
  }
 ],
 "metadata": {
  "kernelspec": {
   "display_name": "Python 3",
   "language": "python",
   "name": "python3"
  },
  "language_info": {
   "codemirror_mode": {
    "name": "ipython",
    "version": 3
   },
   "file_extension": ".py",
   "mimetype": "text/x-python",
   "name": "python",
   "nbconvert_exporter": "python",
   "pygments_lexer": "ipython3",
   "version": "3.6.5"
  }
 },
 "nbformat": 4,
 "nbformat_minor": 2
}
